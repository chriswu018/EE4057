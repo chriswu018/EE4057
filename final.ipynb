{
  "nbformat": 4,
  "nbformat_minor": 0,
  "metadata": {
    "colab": {
      "provenance": [],
      "gpuType": "T4"
    },
    "kernelspec": {
      "name": "python3",
      "display_name": "Python 3"
    },
    "language_info": {
      "name": "python"
    },
    "accelerator": "GPU"
  },
  "cells": [
    {
      "cell_type": "markdown",
      "source": [
        "# Seed setting"
      ],
      "metadata": {
        "id": "pADUiYODJE1O"
      }
    },
    {
      "cell_type": "code",
      "source": [
        "import numpy as np\n",
        "import torch\n",
        "import random\n",
        "\n",
        "def same_seeds(seed):\n",
        "    random.seed(seed)\n",
        "    np.random.seed(seed)\n",
        "    torch.manual_seed(seed)\n",
        "    if torch.cuda.is_available():\n",
        "        torch.cuda.manual_seed(seed)\n",
        "        torch.cuda.manual_seed_all(seed)\n",
        "    torch.backends.cudnn.benchmark = False\n",
        "    torch.backends.cudnn.deterministic = True"
      ],
      "metadata": {
        "id": "BsZKgBZQJjaE"
      },
      "execution_count": null,
      "outputs": []
    },
    {
      "cell_type": "markdown",
      "source": [
        "# Preprocess data"
      ],
      "metadata": {
        "id": "87geSh9KCqvJ"
      }
    },
    {
      "cell_type": "code",
      "source": [
        "from google.colab import drive\n",
        "drive.mount('/content/drive')"
      ],
      "metadata": {
        "colab": {
          "base_uri": "https://localhost:8080/"
        },
        "id": "18v7qyFXDDwF",
        "outputId": "59574c9a-5220-4ab3-c2b6-a51e7143d3c6"
      },
      "execution_count": null,
      "outputs": [
        {
          "output_type": "stream",
          "name": "stdout",
          "text": [
            "Mounted at /content/drive\n"
          ]
        }
      ]
    },
    {
      "cell_type": "code",
      "source": [
        "!unzip /content/drive/MyDrive/final_data.zip"
      ],
      "metadata": {
        "colab": {
          "base_uri": "https://localhost:8080/"
        },
        "id": "JWZVhqMEtsB7",
        "outputId": "71ced689-62e4-4893-f2a8-2336f2e1e31a"
      },
      "execution_count": null,
      "outputs": [
        {
          "output_type": "stream",
          "name": "stdout",
          "text": [
            "Archive:  /content/drive/MyDrive/final_data.zip\n",
            "   creating: final_data/\n",
            "   creating: final_data/bass/\n",
            "  inflating: final_data/bass/b_0.xlsx  \n",
            "  inflating: final_data/bass/b_1.xlsx  \n",
            "  inflating: final_data/bass/b_2.xlsx  \n",
            "  inflating: final_data/bass/b_3.xlsx  \n",
            "   creating: final_data/classical/\n",
            "  inflating: final_data/classical/c_0.xlsx  \n",
            "  inflating: final_data/classical/c_1.xlsx  \n",
            "  inflating: final_data/classical/c_2.xlsx  \n",
            "  inflating: final_data/classical/c_3.xlsx  \n",
            "   creating: final_data/jrock/\n",
            "  inflating: final_data/jrock/j_0.xlsx  \n",
            "  inflating: final_data/jrock/j_1.xlsx  \n",
            "  inflating: final_data/jrock/j_2.xlsx  \n",
            "  inflating: final_data/jrock/j_3.xlsx  \n",
            "   creating: final_data/wubai/\n",
            "  inflating: final_data/wubai/w_0.xlsx  \n",
            "  inflating: final_data/wubai/w_1.xlsx  \n",
            "  inflating: final_data/wubai/w_2.xlsx  \n",
            "  inflating: final_data/wubai/w_3.xlsx  \n"
          ]
        }
      ]
    },
    {
      "cell_type": "code",
      "source": [
        "import pandas as pd\n",
        "import statistics\n",
        "\n",
        "def preprocess_data(csv_dir, window_size=100, gt=0):\n",
        "    #read excel file by pandas\n",
        "    df=pd.read_excel(csv_dir).values\n",
        "    #filter value\n",
        "    mean, std = statistics.mean(df[:,0]), statistics.stdev(df[:,0])\n",
        "    filter = set()\n",
        "    for i, num in enumerate(df[:,0]):\n",
        "        if(num > mean + 3*std or num < mean - 3*std):\n",
        "            pos = i//(window_size//2)\n",
        "            filter.add(pos)\n",
        "            filter.add(max(pos-1, 0))\n",
        "    filter = sorted(filter)\n",
        "    #sample data by window size (500ms, 250ms)\n",
        "    fea = []\n",
        "    label = []\n",
        "    for i in range(0, df.shape[0]-window_size, window_size//2):\n",
        "        if i//(window_size//2) not in filter:\n",
        "            fea.append(df[i:i+window_size,1:])\n",
        "            label.append(gt)\n",
        "    print(f'{len(fea)*(window_size//2)/df.shape[0]*100}% conserve')\n",
        "\n",
        "    return torch.tensor(np.array((fea))), torch.tensor(np.array((label)))"
      ],
      "metadata": {
        "id": "nuVU5zF7C57R"
      },
      "execution_count": null,
      "outputs": []
    },
    {
      "cell_type": "markdown",
      "metadata": {
        "id": "us5XW_x6udZQ"
      },
      "source": [
        "# Dataset"
      ]
    },
    {
      "cell_type": "code",
      "execution_count": null,
      "metadata": {
        "id": "Fjf5EcmJtf4e"
      },
      "outputs": [],
      "source": [
        "from torch.utils.data import Dataset\n",
        "\n",
        "class EEGDataset(Dataset):\n",
        "    def __init__(self, X, y=None):\n",
        "        self.data = X\n",
        "        self.label = y\n",
        "        if y is not None:\n",
        "            self.label = y\n",
        "        else:\n",
        "            self.label = None\n",
        "\n",
        "    def __getitem__(self, idx):\n",
        "        if self.label is not None:\n",
        "            return self.data[idx], self.label[idx]\n",
        "        else:\n",
        "            return self.data[idx]\n",
        "\n",
        "    def __len__(self):\n",
        "        return len(self.data)\n"
      ]
    },
    {
      "cell_type": "markdown",
      "metadata": {
        "id": "IRqKNvNZwe3V"
      },
      "source": [
        "# Model"
      ]
    },
    {
      "cell_type": "code",
      "execution_count": null,
      "metadata": {
        "id": "Bg-GRd7ywdrL"
      },
      "outputs": [],
      "source": [
        "import torch.nn as nn\n",
        "\n",
        "class Classifier(nn.Module):\n",
        "    def __init__(self, input_dim=5, hidden_layers=2, hidden_dim=64, window_size=100, output_dim=2):\n",
        "        super(Classifier, self).__init__()\n",
        "\n",
        "        self.lstm = nn.LSTM(\n",
        "            input_size=input_dim,\n",
        "            hidden_size=hidden_dim,\n",
        "            num_layers= hidden_layers,\n",
        "            batch_first=True,\n",
        "            dropout=0.42,\n",
        "            bidirectional=True\n",
        "        )\n",
        "\n",
        "        self.l = nn.Sequential(\n",
        "          nn.LeakyReLU(0.1),\n",
        "          nn.BatchNorm1d(2*hidden_dim),\n",
        "          nn.Dropout(0.42),\n",
        "          nn.Linear(2*hidden_dim, hidden_dim),\n",
        "          nn.LeakyReLU(0.1),\n",
        "          nn.BatchNorm1d(hidden_dim),\n",
        "          nn.Dropout(0.42),\n",
        "          nn.Linear(hidden_dim, output_dim)\n",
        "        )\n",
        "    def forward(self, x):\n",
        "        output, (h,c) = self.lstm(x)\n",
        "        output = self.l(output[:,window_size//2,:])\n",
        "\n",
        "        return output"
      ]
    },
    {
      "cell_type": "markdown",
      "source": [
        "# Hyper-parameters"
      ],
      "metadata": {
        "id": "TlIq8JeqvvHC"
      }
    },
    {
      "cell_type": "code",
      "source": [
        "# data prarameters\n",
        "window_size = 100   # the number of data to concat with.\n",
        "train_ratio = 0.95   # the ratio of data used for training, the rest will be used for validation\n",
        "music_types = ['bass', 'classical', 'jrock', 'wubai']\n",
        "num_music = 3\n",
        "output_dim = len(music_types)\n",
        "\n",
        "# training parameters\n",
        "seed = 42            # random seed\n",
        "batch_size = 512        # batch size\n",
        "num_epoch = 250         # the number of training epoch\n",
        "learning_rate = 1e-4      # learning rate\n",
        "model_path = './model.ckpt'   # the path where the checkpoint will be saved\n",
        "\n",
        "# model parameters\n",
        "input_dim = 4            # the input dim of the model, you should not change the value\n",
        "hidden_layers = 3          # the number of hidden layers\n",
        "hidden_dim = 256           # the hidden dim"
      ],
      "metadata": {
        "id": "iIHn79Iav1ri"
      },
      "execution_count": null,
      "outputs": []
    },
    {
      "cell_type": "markdown",
      "source": [
        "# Dataloader"
      ],
      "metadata": {
        "id": "IIUFRgG5yoDn"
      }
    },
    {
      "cell_type": "code",
      "source": [
        "from torch.utils.data import DataLoader\n",
        "\n",
        "#Environment setting\n",
        "same_seeds(seed)\n",
        "device = 'cuda' if torch.cuda.is_available() else 'cpu'\n",
        "print(f'DEVICE: {device}')\n",
        "\n",
        "# preprocess data\n",
        "X, Y = torch.tensor([0]), torch.tensor([0])\n",
        "for i, music_type in enumerate(music_types):\n",
        "    print(\"music_type: \", music_type)\n",
        "    for num in range(num_music):\n",
        "        data_path = f\"/content/final_data/{music_type}/{music_type[0]}_{num}.xlsx\"\n",
        "        x, y = preprocess_data(data_path, window_size, i)\n",
        "        if(X.size()[0] == 1):\n",
        "            X, Y = x, y\n",
        "        else:\n",
        "            X = torch.cat((X, x))\n",
        "            Y = torch.cat((Y, y))\n",
        "\n",
        "print(\"Data size: \", X.size())\n",
        "print(\"Label size: \", Y.size())"
      ],
      "metadata": {
        "id": "c1zI3v5jyrDn",
        "colab": {
          "base_uri": "https://localhost:8080/"
        },
        "outputId": "eab2afd2-6a5b-4710-e810-1360f238b2d2"
      },
      "execution_count": null,
      "outputs": [
        {
          "output_type": "stream",
          "name": "stdout",
          "text": [
            "DEVICE: cuda\n",
            "music_type:  bass\n",
            "96.27153752000753% conserve\n",
            "95.19241412389773% conserve\n",
            "95.0937950937951% conserve\n",
            "music_type:  classical\n",
            "99.81072062754893% conserve\n",
            "94.8743223262691% conserve\n",
            "93.99957594176267% conserve\n",
            "music_type:  jrock\n",
            "94.52797633719497% conserve\n",
            "96.21595135749126% conserve\n",
            "92.97445915635628% conserve\n",
            "music_type:  wubai\n",
            "94.97826940521806% conserve\n",
            "94.73406245186278% conserve\n",
            "95.3279620623745% conserve\n",
            "Data size:  torch.Size([11154, 100, 4])\n",
            "Label size:  torch.Size([11154])\n"
          ]
        }
      ]
    },
    {
      "cell_type": "code",
      "source": [
        "# get dataset\n",
        "train_dataset = EEGDataset(X, Y)\n",
        "\n",
        "# get dataloader\n",
        "train_loader = DataLoader(train_dataset, batch_size=batch_size, shuffle=True)"
      ],
      "metadata": {
        "id": "ixO-nRFSyLEe"
      },
      "execution_count": null,
      "outputs": []
    },
    {
      "cell_type": "markdown",
      "source": [
        "# Training"
      ],
      "metadata": {
        "id": "pwWH1KIqzxEr"
      }
    },
    {
      "cell_type": "code",
      "execution_count": null,
      "metadata": {
        "id": "CdMWsBs7zzNs",
        "colab": {
          "base_uri": "https://localhost:8080/"
        },
        "outputId": "1a8aca36-6b50-419c-e649-8e353bdd3afb"
      },
      "outputs": [
        {
          "output_type": "stream",
          "name": "stdout",
          "text": [
            "[001/250] Loss: 0.00295, Acc: 0.28259\n",
            "[002/250] Loss: 0.00286, Acc: 0.29998\n",
            "[003/250] Loss: 0.00284, Acc: 0.29873\n",
            "[004/250] Loss: 0.00282, Acc: 0.30061\n",
            "[005/250] Loss: 0.00280, Acc: 0.31191\n",
            "[006/250] Loss: 0.00277, Acc: 0.31110\n",
            "[007/250] Loss: 0.00273, Acc: 0.32338\n",
            "[008/250] Loss: 0.00273, Acc: 0.32652\n",
            "[009/250] Loss: 0.00272, Acc: 0.32975\n",
            "[010/250] Loss: 0.00270, Acc: 0.32786\n",
            "[011/250] Loss: 0.00269, Acc: 0.33791\n",
            "[012/250] Loss: 0.00268, Acc: 0.33853\n",
            "[013/250] Loss: 0.00268, Acc: 0.33468\n",
            "[014/250] Loss: 0.00268, Acc: 0.33719\n",
            "[015/250] Loss: 0.00267, Acc: 0.34624\n",
            "[016/250] Loss: 0.00267, Acc: 0.33647\n",
            "[017/250] Loss: 0.00267, Acc: 0.33925\n",
            "[018/250] Loss: 0.00264, Acc: 0.35288\n",
            "[019/250] Loss: 0.00263, Acc: 0.35019\n",
            "[020/250] Loss: 0.00262, Acc: 0.36193\n",
            "[021/250] Loss: 0.00259, Acc: 0.36749\n",
            "[022/250] Loss: 0.00257, Acc: 0.37215\n",
            "[023/250] Loss: 0.00257, Acc: 0.37852\n",
            "[024/250] Loss: 0.00255, Acc: 0.37888\n",
            "[025/250] Loss: 0.00252, Acc: 0.38488\n",
            "[026/250] Loss: 0.00252, Acc: 0.38990\n",
            "[027/250] Loss: 0.00249, Acc: 0.39797\n",
            "[028/250] Loss: 0.00247, Acc: 0.40075\n",
            "[029/250] Loss: 0.00244, Acc: 0.41205\n",
            "[030/250] Loss: 0.00242, Acc: 0.41590\n",
            "[031/250] Loss: 0.00238, Acc: 0.42621\n",
            "[032/250] Loss: 0.00236, Acc: 0.42514\n",
            "[033/250] Loss: 0.00233, Acc: 0.43106\n",
            "[034/250] Loss: 0.00233, Acc: 0.43007\n",
            "[035/250] Loss: 0.00232, Acc: 0.44217\n",
            "[036/250] Loss: 0.00231, Acc: 0.43895\n",
            "[037/250] Loss: 0.00230, Acc: 0.44181\n",
            "[038/250] Loss: 0.00228, Acc: 0.44854\n",
            "[039/250] Loss: 0.00228, Acc: 0.44468\n",
            "[040/250] Loss: 0.00228, Acc: 0.44809\n",
            "[041/250] Loss: 0.00227, Acc: 0.44961\n",
            "[042/250] Loss: 0.00225, Acc: 0.45347\n",
            "[043/250] Loss: 0.00225, Acc: 0.44782\n",
            "[044/250] Loss: 0.00225, Acc: 0.45464\n",
            "[045/250] Loss: 0.00225, Acc: 0.44890\n",
            "[046/250] Loss: 0.00225, Acc: 0.45230\n",
            "[047/250] Loss: 0.00223, Acc: 0.45204\n",
            "[048/250] Loss: 0.00224, Acc: 0.45508\n",
            "[049/250] Loss: 0.00223, Acc: 0.45275\n",
            "[050/250] Loss: 0.00223, Acc: 0.45831\n",
            "[051/250] Loss: 0.00223, Acc: 0.45921\n",
            "[052/250] Loss: 0.00222, Acc: 0.45679\n",
            "[053/250] Loss: 0.00222, Acc: 0.45948\n",
            "[054/250] Loss: 0.00222, Acc: 0.45867\n",
            "[055/250] Loss: 0.00221, Acc: 0.45867\n",
            "[056/250] Loss: 0.00221, Acc: 0.46028\n",
            "[057/250] Loss: 0.00222, Acc: 0.45831\n",
            "[058/250] Loss: 0.00222, Acc: 0.45858\n",
            "[059/250] Loss: 0.00221, Acc: 0.46163\n",
            "[060/250] Loss: 0.00221, Acc: 0.46145\n",
            "[061/250] Loss: 0.00221, Acc: 0.45580\n",
            "[062/250] Loss: 0.00222, Acc: 0.46181\n",
            "[063/250] Loss: 0.00221, Acc: 0.46423\n",
            "[064/250] Loss: 0.00222, Acc: 0.46001\n",
            "[065/250] Loss: 0.00225, Acc: 0.44719\n",
            "[066/250] Loss: 0.00223, Acc: 0.46001\n",
            "[067/250] Loss: 0.00223, Acc: 0.46288\n",
            "[068/250] Loss: 0.00222, Acc: 0.46468\n",
            "[069/250] Loss: 0.00221, Acc: 0.46593\n",
            "[070/250] Loss: 0.00222, Acc: 0.46288\n",
            "[071/250] Loss: 0.00220, Acc: 0.46288\n",
            "[072/250] Loss: 0.00220, Acc: 0.46943\n",
            "[073/250] Loss: 0.00219, Acc: 0.46997\n",
            "[074/250] Loss: 0.00218, Acc: 0.47113\n",
            "[075/250] Loss: 0.00221, Acc: 0.46934\n",
            "[076/250] Loss: 0.00219, Acc: 0.46988\n",
            "[077/250] Loss: 0.00218, Acc: 0.47803\n",
            "[078/250] Loss: 0.00218, Acc: 0.47750\n",
            "[079/250] Loss: 0.00217, Acc: 0.47750\n",
            "[080/250] Loss: 0.00217, Acc: 0.48162\n",
            "[081/250] Loss: 0.00216, Acc: 0.48090\n",
            "[082/250] Loss: 0.00216, Acc: 0.48386\n",
            "[083/250] Loss: 0.00216, Acc: 0.48566\n",
            "[084/250] Loss: 0.00215, Acc: 0.48055\n",
            "[085/250] Loss: 0.00216, Acc: 0.48718\n",
            "[086/250] Loss: 0.00216, Acc: 0.48664\n",
            "[087/250] Loss: 0.00216, Acc: 0.48108\n",
            "[088/250] Loss: 0.00215, Acc: 0.48180\n",
            "[089/250] Loss: 0.00215, Acc: 0.48458\n",
            "[090/250] Loss: 0.00214, Acc: 0.48718\n",
            "[091/250] Loss: 0.00214, Acc: 0.49372\n",
            "[092/250] Loss: 0.00213, Acc: 0.48745\n",
            "[093/250] Loss: 0.00213, Acc: 0.49202\n",
            "[094/250] Loss: 0.00212, Acc: 0.49462\n",
            "[095/250] Loss: 0.00213, Acc: 0.49256\n",
            "[096/250] Loss: 0.00213, Acc: 0.49677\n",
            "[097/250] Loss: 0.00213, Acc: 0.48897\n",
            "[098/250] Loss: 0.00212, Acc: 0.49462\n",
            "[099/250] Loss: 0.00212, Acc: 0.49686\n",
            "[100/250] Loss: 0.00211, Acc: 0.50117\n",
            "[101/250] Loss: 0.00212, Acc: 0.49408\n",
            "[102/250] Loss: 0.00211, Acc: 0.49919\n",
            "[103/250] Loss: 0.00211, Acc: 0.49964\n",
            "[104/250] Loss: 0.00212, Acc: 0.49471\n",
            "[105/250] Loss: 0.00210, Acc: 0.49614\n",
            "[106/250] Loss: 0.00210, Acc: 0.49821\n",
            "[107/250] Loss: 0.00209, Acc: 0.50341\n",
            "[108/250] Loss: 0.00210, Acc: 0.49659\n",
            "[109/250] Loss: 0.00210, Acc: 0.50368\n",
            "[110/250] Loss: 0.00210, Acc: 0.49776\n",
            "[111/250] Loss: 0.00210, Acc: 0.49794\n",
            "[112/250] Loss: 0.00209, Acc: 0.50852\n",
            "[113/250] Loss: 0.00209, Acc: 0.50090\n",
            "[114/250] Loss: 0.00208, Acc: 0.50439\n",
            "[115/250] Loss: 0.00209, Acc: 0.50654\n",
            "[116/250] Loss: 0.00209, Acc: 0.50430\n",
            "[117/250] Loss: 0.00209, Acc: 0.50717\n",
            "[118/250] Loss: 0.00208, Acc: 0.50341\n",
            "[119/250] Loss: 0.00207, Acc: 0.50950\n",
            "[120/250] Loss: 0.00208, Acc: 0.50888\n",
            "[121/250] Loss: 0.00207, Acc: 0.51309\n",
            "[122/250] Loss: 0.00207, Acc: 0.51174\n",
            "[123/250] Loss: 0.00207, Acc: 0.51399\n",
            "[124/250] Loss: 0.00207, Acc: 0.50995\n",
            "[125/250] Loss: 0.00206, Acc: 0.50646\n",
            "[126/250] Loss: 0.00207, Acc: 0.51345\n",
            "[127/250] Loss: 0.00207, Acc: 0.51300\n",
            "[128/250] Loss: 0.00207, Acc: 0.51130\n",
            "[129/250] Loss: 0.00206, Acc: 0.51399\n",
            "[130/250] Loss: 0.00206, Acc: 0.51470\n",
            "[131/250] Loss: 0.00206, Acc: 0.50986\n",
            "[132/250] Loss: 0.00207, Acc: 0.50753\n",
            "[133/250] Loss: 0.00205, Acc: 0.51497\n",
            "[134/250] Loss: 0.00205, Acc: 0.51856\n",
            "[135/250] Loss: 0.00205, Acc: 0.51650\n",
            "[136/250] Loss: 0.00205, Acc: 0.51515\n",
            "[137/250] Loss: 0.00204, Acc: 0.51829\n",
            "[138/250] Loss: 0.00205, Acc: 0.51712\n",
            "[139/250] Loss: 0.00203, Acc: 0.51775\n",
            "[140/250] Loss: 0.00203, Acc: 0.51829\n",
            "[141/250] Loss: 0.00204, Acc: 0.52071\n",
            "[142/250] Loss: 0.00205, Acc: 0.51739\n",
            "[143/250] Loss: 0.00203, Acc: 0.52053\n",
            "[144/250] Loss: 0.00204, Acc: 0.51677\n",
            "[145/250] Loss: 0.00204, Acc: 0.52116\n",
            "[146/250] Loss: 0.00204, Acc: 0.52152\n",
            "[147/250] Loss: 0.00204, Acc: 0.52591\n",
            "[148/250] Loss: 0.00204, Acc: 0.51757\n",
            "[149/250] Loss: 0.00203, Acc: 0.52546\n",
            "[150/250] Loss: 0.00201, Acc: 0.52824\n",
            "[151/250] Loss: 0.00201, Acc: 0.52797\n",
            "[152/250] Loss: 0.00202, Acc: 0.52457\n",
            "[153/250] Loss: 0.00201, Acc: 0.52690\n",
            "[154/250] Loss: 0.00201, Acc: 0.52465\n",
            "[155/250] Loss: 0.00201, Acc: 0.53102\n",
            "[156/250] Loss: 0.00201, Acc: 0.52474\n",
            "[157/250] Loss: 0.00201, Acc: 0.52636\n",
            "[158/250] Loss: 0.00199, Acc: 0.53120\n",
            "[159/250] Loss: 0.00201, Acc: 0.52627\n",
            "[160/250] Loss: 0.00202, Acc: 0.52340\n",
            "[161/250] Loss: 0.00201, Acc: 0.52681\n",
            "[162/250] Loss: 0.00200, Acc: 0.53416\n",
            "[163/250] Loss: 0.00200, Acc: 0.52833\n",
            "[164/250] Loss: 0.00201, Acc: 0.52672\n",
            "[165/250] Loss: 0.00200, Acc: 0.53165\n",
            "[166/250] Loss: 0.00199, Acc: 0.53174\n",
            "[167/250] Loss: 0.00199, Acc: 0.53237\n",
            "[168/250] Loss: 0.00199, Acc: 0.53505\n",
            "[169/250] Loss: 0.00200, Acc: 0.52761\n",
            "[170/250] Loss: 0.00198, Acc: 0.53362\n",
            "[171/250] Loss: 0.00199, Acc: 0.53254\n",
            "[172/250] Loss: 0.00198, Acc: 0.53721\n",
            "[173/250] Loss: 0.00198, Acc: 0.53550\n",
            "[174/250] Loss: 0.00198, Acc: 0.53595\n",
            "[175/250] Loss: 0.00199, Acc: 0.53721\n",
            "[176/250] Loss: 0.00197, Acc: 0.54088\n",
            "[177/250] Loss: 0.00197, Acc: 0.53819\n",
            "[178/250] Loss: 0.00197, Acc: 0.53219\n",
            "[179/250] Loss: 0.00198, Acc: 0.53568\n",
            "[180/250] Loss: 0.00197, Acc: 0.53505\n",
            "[181/250] Loss: 0.00197, Acc: 0.54259\n",
            "[182/250] Loss: 0.00198, Acc: 0.53586\n",
            "[183/250] Loss: 0.00197, Acc: 0.54008\n",
            "[184/250] Loss: 0.00197, Acc: 0.53756\n",
            "[185/250] Loss: 0.00196, Acc: 0.53891\n",
            "[186/250] Loss: 0.00196, Acc: 0.53927\n",
            "[187/250] Loss: 0.00196, Acc: 0.54411\n",
            "[188/250] Loss: 0.00196, Acc: 0.54770\n",
            "[189/250] Loss: 0.00196, Acc: 0.54250\n",
            "[190/250] Loss: 0.00196, Acc: 0.54178\n",
            "[191/250] Loss: 0.00196, Acc: 0.54133\n",
            "[192/250] Loss: 0.00195, Acc: 0.53873\n",
            "[193/250] Loss: 0.00195, Acc: 0.54276\n",
            "[194/250] Loss: 0.00195, Acc: 0.54465\n",
            "[195/250] Loss: 0.00195, Acc: 0.54384\n",
            "[196/250] Loss: 0.00195, Acc: 0.54178\n",
            "[197/250] Loss: 0.00194, Acc: 0.54805\n",
            "[198/250] Loss: 0.00195, Acc: 0.54393\n",
            "[199/250] Loss: 0.00194, Acc: 0.55209\n",
            "[200/250] Loss: 0.00194, Acc: 0.54384\n",
            "[201/250] Loss: 0.00195, Acc: 0.54223\n",
            "[202/250] Loss: 0.00194, Acc: 0.54671\n",
            "[203/250] Loss: 0.00194, Acc: 0.54886\n",
            "[204/250] Loss: 0.00194, Acc: 0.54483\n",
            "[205/250] Loss: 0.00194, Acc: 0.54178\n",
            "[206/250] Loss: 0.00194, Acc: 0.55639\n",
            "[207/250] Loss: 0.00193, Acc: 0.55415\n",
            "[208/250] Loss: 0.00193, Acc: 0.54671\n",
            "[209/250] Loss: 0.00193, Acc: 0.54823\n",
            "[210/250] Loss: 0.00194, Acc: 0.55164\n",
            "[211/250] Loss: 0.00193, Acc: 0.54725\n",
            "[212/250] Loss: 0.00193, Acc: 0.55039\n",
            "[213/250] Loss: 0.00193, Acc: 0.54348\n",
            "[214/250] Loss: 0.00194, Acc: 0.54662\n",
            "[215/250] Loss: 0.00194, Acc: 0.54770\n",
            "[216/250] Loss: 0.00193, Acc: 0.54545\n",
            "[217/250] Loss: 0.00193, Acc: 0.55021\n",
            "[218/250] Loss: 0.00193, Acc: 0.55110\n",
            "[219/250] Loss: 0.00192, Acc: 0.55065\n",
            "[220/250] Loss: 0.00193, Acc: 0.55334\n",
            "[221/250] Loss: 0.00192, Acc: 0.55325\n",
            "[222/250] Loss: 0.00193, Acc: 0.55227\n",
            "[223/250] Loss: 0.00193, Acc: 0.55290\n",
            "[224/250] Loss: 0.00193, Acc: 0.54922\n",
            "[225/250] Loss: 0.00192, Acc: 0.55164\n",
            "[226/250] Loss: 0.00192, Acc: 0.55236\n",
            "[227/250] Loss: 0.00192, Acc: 0.54949\n",
            "[228/250] Loss: 0.00192, Acc: 0.54823\n",
            "[229/250] Loss: 0.00193, Acc: 0.55191\n",
            "[230/250] Loss: 0.00192, Acc: 0.55523\n",
            "[231/250] Loss: 0.00192, Acc: 0.55030\n",
            "[232/250] Loss: 0.00192, Acc: 0.55316\n",
            "[233/250] Loss: 0.00192, Acc: 0.55370\n",
            "[234/250] Loss: 0.00192, Acc: 0.55030\n",
            "[235/250] Loss: 0.00192, Acc: 0.55334\n",
            "[236/250] Loss: 0.00192, Acc: 0.55361\n",
            "[237/250] Loss: 0.00192, Acc: 0.55003\n",
            "[238/250] Loss: 0.00191, Acc: 0.55388\n",
            "[239/250] Loss: 0.00192, Acc: 0.55119\n",
            "[240/250] Loss: 0.00191, Acc: 0.55612\n",
            "[241/250] Loss: 0.00192, Acc: 0.54904\n",
            "[242/250] Loss: 0.00192, Acc: 0.55514\n",
            "[243/250] Loss: 0.00192, Acc: 0.55316\n",
            "[244/250] Loss: 0.00192, Acc: 0.55236\n",
            "[245/250] Loss: 0.00191, Acc: 0.55128\n",
            "[246/250] Loss: 0.00191, Acc: 0.55621\n",
            "[247/250] Loss: 0.00192, Acc: 0.55316\n",
            "[248/250] Loss: 0.00192, Acc: 0.55012\n",
            "[249/250] Loss: 0.00192, Acc: 0.55065\n",
            "[250/250] Loss: 0.00192, Acc: 0.54976\n"
          ]
        }
      ],
      "source": [
        "from tqdm import tqdm\n",
        "\n",
        "# create model, define a loss function, and optimizer\n",
        "model = Classifier(\n",
        "    input_dim=input_dim,\n",
        "    hidden_layers=hidden_layers,\n",
        "    hidden_dim=hidden_dim,\n",
        "    window_size=window_size,\n",
        "    output_dim=output_dim\n",
        ").to(device)\n",
        "criterion = nn.CrossEntropyLoss()\n",
        "optimizer = torch.optim.Adam(model.parameters(), lr=learning_rate)\n",
        "scheduler = torch.optim.lr_scheduler.CosineAnnealingWarmRestarts(optimizer,T_0=3, T_mult=4, eta_min=0)\n",
        "\n",
        "\n",
        "best_acc = 0.0\n",
        "for epoch in range(num_epoch):\n",
        "    train_acc = 0.0\n",
        "    train_loss = 0.0\n",
        "\n",
        "    # training\n",
        "    model.train() # set the model to training mode\n",
        "    for i, batch in enumerate((train_loader)):\n",
        "        features, labels = batch\n",
        "        features = features.to(device, torch.float32)\n",
        "        labels = labels.to(device)\n",
        "\n",
        "        optimizer.zero_grad()\n",
        "        outputs = model(features)\n",
        "\n",
        "        _, train_pred = torch.max(outputs, 1) # get the index of the class with the highest probability\n",
        "        train_acc += (train_pred.detach() == labels.detach()).sum().item()\n",
        "\n",
        "        loss = criterion(outputs, labels)\n",
        "        loss.backward()\n",
        "        optimizer.step()\n",
        "        train_loss += loss.item()\n",
        "\n",
        "    train_acc /= len(train_dataset)\n",
        "    train_loss /= len(train_dataset)\n",
        "    scheduler.step()\n",
        "\n",
        "    # save best model\n",
        "    if best_acc < train_acc:\n",
        "        best_acc = train_acc\n",
        "        torch.save(model.state_dict(), model_path)\n",
        "\n",
        "    print(f'[{epoch+1:03d}/{num_epoch:03d}] Loss: {train_loss:3.5f}, Acc: {train_acc:3.5f}')\n"
      ]
    },
    {
      "cell_type": "markdown",
      "source": [
        "# Inference"
      ],
      "metadata": {
        "id": "BrFKcnuysQsa"
      }
    },
    {
      "cell_type": "code",
      "source": [
        "model = Classifier(\n",
        "    input_dim=input_dim,\n",
        "    hidden_layers=hidden_layers,\n",
        "    hidden_dim=hidden_dim,\n",
        "    window_size=window_size,\n",
        "    output_dim=output_dim\n",
        ").to(device)\n",
        "model.load_state_dict(torch.load(model_path, weights_only=True))\n",
        "model.eval()\n",
        "\n",
        "for i, music_type in enumerate(music_types):\n",
        "    # preprocess data\n",
        "    print(\"music_type: \", music_type)\n",
        "    data_path = f\"/content/final_data/{music_type}/{music_type[0]}_3.xlsx\"\n",
        "    X, Y = preprocess_data(data_path, window_size, i)\n",
        "    # get dataset\n",
        "    inference_dataset = EEGDataset(X, Y)\n",
        "    # get dataloader\n",
        "    inference_loader = DataLoader(inference_dataset, batch_size=batch_size, shuffle=False)\n",
        "    # inference\n",
        "    test_acc = 0.0\n",
        "    with torch.no_grad():\n",
        "        li = [0,0,0,0]\n",
        "        for batch in ((inference_loader)):\n",
        "            features, labels = batch\n",
        "            features = features.to(device, torch.float32)\n",
        "            labels = labels.to(device)\n",
        "            outputs = model(features)\n",
        "            _, train_pred = torch.max(outputs, 1)\n",
        "            test_acc += (train_pred.detach() == labels.detach()).sum().item()\n",
        "            for pred in train_pred.detach():\n",
        "                li[pred] += 1\n",
        "    # calculate prediction\n",
        "    ans = 0\n",
        "    M = 0\n",
        "    for j in range(4):\n",
        "        if li[j] > M:\n",
        "            M = li[j]\n",
        "            ans = j\n",
        "        li[j] = str(li[j]*100//len(inference_dataset)) + '%'\n",
        "    # print result\n",
        "    print(f'[{music_type}] Predict Success: {ans == i}, Sequence Acc: {test_acc/len(inference_dataset):3.5f}')\n",
        "    print('Distribution:',li)\n",
        "    print()"
      ],
      "metadata": {
        "colab": {
          "base_uri": "https://localhost:8080/"
        },
        "id": "7LXVEzBHrvKS",
        "outputId": "b1516ee6-ce26-4e5d-c41f-9de1686a390d"
      },
      "execution_count": null,
      "outputs": [
        {
          "output_type": "stream",
          "name": "stdout",
          "text": [
            "music_type:  bass\n",
            "96.71342550543277% conserve\n",
            "[bass] Predict Success: True, Sequence Acc: 0.65913\n",
            "Distribution: ['65%', '21%', '8%', '4%']\n",
            "\n",
            "music_type:  classical\n",
            "99.7565548311274% conserve\n",
            "[classical] Predict Success: True, Sequence Acc: 0.57223\n",
            "Distribution: ['34%', '57%', '4%', '3%']\n",
            "\n",
            "music_type:  jrock\n",
            "94.19790178791312% conserve\n",
            "[jrock] Predict Success: True, Sequence Acc: 0.42222\n",
            "Distribution: ['11%', '23%', '42%', '22%']\n",
            "\n",
            "music_type:  wubai\n",
            "93.54426182920476% conserve\n",
            "[wubai] Predict Success: True, Sequence Acc: 0.63924\n",
            "Distribution: ['3%', '8%', '24%', '63%']\n",
            "\n"
          ]
        }
      ]
    },
    {
      "cell_type": "markdown",
      "source": [
        "![image.png](data:image/png;base64,iVBORw0KGgoAAAANSUhEUgAAA3oAAAIbCAYAAAC9jOwzAAAAAXNSR0IArs4c6QAAAARnQU1BAACxjwv8YQUAAAAJcEhZcwAADsMAAA7DAcdvqGQAAMRpSURBVHhe7N0HgBRF2sbxFwmSQUAEQUBUzIqCOaKi6CmKilnMimLO52c6s2fOeirmTFARRFBAggQDIDnnnFkWlk3zzb/owmGYzbuw2/P87kZ2e3p6Os1sPV3VVeUiUSYiIiIiIiKhsUPwr4iIiIiIiISEgp6IiIiIiEjIKOiJiIiIiIiEjIKeiIiIiIhIyCjoiYiIiIiIhIyCnoiIiIiISMgo6ImIiIiIiISMgp6IiIiIiEjIKOiJiIiIiIiEjIKeiIiIiIhIyCjoiYiIiIiIhIyCnoiIiIiISMgo6ImIiIiIiISMgp6IiIiIiEjIKOiJiIiIiIiEjIKeiIiIiIhIyJSLRAU/i4iEzsaNG+27776z+fPnB1O2Vr58eatdu7btvvvutvfee1v9+vWtXLlywbObzJw504YOHWrLly+3PfbYw1q3bm2NGjUKng2fjIwMmz59ug0cONDS0tLs4IMPtpYtW1rdunWDOQpnwYIFNmrUKJs1a5bbz0cffbQ1b948eDaxrKwsW7p0qX311VeWnZ0dTN1SxYoVbaeddrLGjRvbPvvs49aTafFYFts1aNAgS01NtQMOOMAOOeQQ23nnnYM5CofzLDMz0503FSpUsEqVKgXPFMzixYvtjz/+sKlTp1qdOnXsmGOOsb322ss9x/SxY8famjVrbL/99rOjjjrKatWq5Z4raWwb28j28ahcufIWn5GVK1e6dRs9erTtuOOOdsIJJ7jPUqJjICIi2whBT0QkrFatWhVp06ZNJBrmcnxEC62RJk2aRNq3bx954YUXItHCaiQaCIIlbNKrV69INOi4+Tt06BCJhr7gmXCKhqDIp59+GokGILfNXbp0iUyYMCF4tvDYb2eddZZb5mGHHeb2a142bNgQGT58eKRKlSqbj1nsIxqsItWqVYtEA3jkX//6V+TJJ5+MDBkyJLJ69epgCf+IhpXIl19+GYkGQvfaa6+9NjJmzJjg2cJJT0+PDBgwIPL2229HunbtGomG4+CZghs5cmTkwgsvdOu2//77R7p37x48E4k8//zzkT333NM9d9VVV0VmzJgRPFOyoiEvMnnyZLd9//vf/yJffPGFOz9iTZo0KXLbbbe5datXr57bDykpKcGzIiKyPajppoiEWvR7ztXi+Ae1LdSCUIPnH9Q6UNP0/fff22OPPWZvvvmmzZ07N1jCJryuRo0abv6qVau6WsCwY7/4fRUNWbbDDkX/k0GNHA9/PHKqoYsX+xoerI8/fjVr1nTrRq1r79697f/+7//s2Weftd9//92iITFYwj9it6s4jiU1nh9++KF17tzZbr/9dvdzYbEu0dDq1o3zjfPOK8x+Kw7U7g4bNsxt30033WQPPfSQq1WMxf73x4R9S41mfK24iIhsWwp6IpJUmjZtauecc46df/75mx8nnXSSa45JQZUC7C+//GJffPGFC4nerrvuam3btnXz05yuqE39SjsCBvuqffv2bpsPPfTQbdZMMD8OP/zwzcevQ4cOdvLJJ1uzZs2sevXqLnT88MMP9vXXX9u0adOCV2zCc7vttpv961//cq+lCS7hpKhiz5WioLnmkUce6dbttNNOc+taFhC2adrLenPO0Aw6NqSKiMh2QLWeiEhYrVy5MnL88cdTCnePa665JpKRkRE8+w+antGk0M8XDXWuSV6s7OzszY94TMvKynIP/7yfN356bmLnz8/r4t/DT8vt9Xk97zE99pGIfy5+eTnNP3jwYNe8kn0cDY+R7777LngmZzTdHDZsWKRSpUruddEA4ZqVxuL9li9f7po0RkOHmy8a+iLPPfeca3oYz69jTuvpn8tru/idJqKXXXaZe0/eu1OnTpvn92KXlWh6LKb5R6z//ve/kWiAcu9zxRVXuKab/vWJlh0vdt6c5otfFg+aab777rub9z3NR+fPn7/VMvz8/pETnkv0PjmJnT92vvjpuS1DRCQZqUZPRCQqWnh1tXS+uVm00OiarHl0MvHAAw9YtEBvL730kussw2O+Dz74wNUyUZPxn//8x6LB0aKhxq699lo76KCDXGcmN9xwg/35558JmxNGC6uuIw6ajZ533nnuNdSQdOzY0U2jWWIi/fr1swsvvNC975lnnumaK3bv3t3VOlJLSYcdjzzyiOsog21auHChvfrqqxYNv67TkjPOOMPef//9rTqroeON3377za0z20xzxNh5WNayZcvsf//7n1tH1pXlHXfccXbrrbfajz/+mHA7SwrHjc5YomHIbTe1SXS2Qscrc+bMCeba1KnI8OHD7eabb3bb9d57723xfPTvontdt27dLBoaXY3fvvvuayeeeKLdc889NmDAgC3Oi9dff91OOeUUt8+RkpLiXsv+6Nq1q9uP6NOnj6t55DhdfvnlNmbMGFu0aJE9+uijrraU3zkHouHNXnvtNbdu9957rzueOVm1apX16tXLLZeOT6jV5LVsD8cnFp2lsDw6cWEdWDemeewXzlme48H20vlQ37597ZJLLnHb7uebPXu2tWrVyjXhZH3BefXJJ5+49eac4dynSWsszgfO/4cfftjVotPJzGGHHWbXXXedazbN+ZTI559/7jp3Yb3YhvHjx9vIkSPtxhtvdJ8rOtS55ppr3PnKsRMRkU3KR//IPBr8LCISOhQ2v/zyy82FeQrVBKL4+80IWRQ2J0yY4JooEpDOPffczcGPgjgFWe5V4h6qAw88cHOzOgrovlBMgZdmbH/99ZcLfxRImUZvnYQ1ggJNDHmt75GQ5qI//fSTuweK4EaBm/XhNdwrSOGYQizbwvrH3vs0btw419SUfym4T5kyxTVZJIjyO8uYOHGi6+Vy8uTJ9tlnn7neKymgr1ixwq0bvTkSSFgn36tmenq6m06Q+/vvv11vlhSoCcMEHYIvBXSCBssntBA86B2T92Y/8X5t2rTZogdKtofnaFLZsGFDFygIKbkhXLD8jz76yO1rjh3NbwnDsdgvNL/167B27Vp3LAnxLVq0cPOwLPYnAY9t2GWXXdyx5F/CEfuF48A5w/PsH/YTx4PtYd3Z16w328XxJNSwnz0fBI844ggXiAidBO3+/fu7Y8s+Zr3eeOMN+/bbb90+IfzRiyshil5i2a/r1q1zPYISoME5wDFZvXq1WybLYp+wPmwz68g6s328B8HIn+cEIM5vQi7bw3Fhu7lHEWz7kiVLXFBmv3GvYLt27dzr2MbYCxvMy3RCFkG4Xr167vhwDtPkmftd2W7W2x97tuvdd9+1J554wn1W+CywHv5zMWTIELc93JfIesee42w3y+YzTNNcznGWxXTei/Oc85ueVDk/6cU19pwTEUlWqtETkaRCKKGA/dZbb21+UPi84447XMGRoEAh/uqrr94iDBIQKHgTyijkEjhiURPkH4S7n3/+2YUnhg/gnitQIKU2okePHq6wCmo5qLVhHQiH8+bNc4GLWrqLLrrImjRp4mrSWDdqYQgLhDAv9n0JALw3KKRT0KbATgAgDBI8KWQzrAE1eQ0aNHDrSAGaWiiGUvBYHu9DoZ9tXr9+/eZtpmD+8ccfu9BASCEEXnzxxXb99de7gMxr2T4K3hTQ+X1bISBQs0rtHtifhIBYsdvF/vfbRVj55ptv3LEj8HFfZqdOneyuu+6ys846ywV8LgRQW/n222+75VCb9sILL7gaJ/jzhyDJfYA+zPtjxIPQxEUDjiXHhmDo9xHnGfuadaN2MLb2MBbL4Hix/qeeeqp7L441wefXX391QZVQGCt2Hfz7xYp/ngdhlZo7as/Ae3DeELSoRWMfgX3IurDe7Fv2Da8H5yUXH6g55vxnuwiwLJP9yjLZ33SkQ1Dkokqs2PXhM8IFFZbBZ+vYY491n1Peg6BImCX4ioiIgp6IJBkKgxTSCXv+QaGcAiKFZEICtSvUVBQW4YmmkzRRo8kbD2qJGHuMwiphyzd5I4QQ/KiFIaTQDPDuu+92vTfedttt7mdCGYVoatZefvllV8j1hehYLJ9arscff9y9zjcLJGxQEGYZBBLWi/DC875WkvUgwMUH2ESonaHGiRBCDQvrSnPNLl26uJ+pLaLWh2DLtiZa15JETSFjuYEaI8JUflB7RycuBHnW+aqrrnK9TNIUkQsBhG9CDiGGUMK/hGmCFoEc7Gs6sSHAUJNIiIlH7Ru1ZwR5egd9/vnnXS1vfC1zbgiD1Hz5Y8nxfvDBB13wYv0Jq9SS5RQU84taRpr5+s8D5yjHnGBJ81Rq4PJCLSjhmPOL/UdTX3pGZd+y7jzYj9TwEX6p5YxveuqxPYREmiPzubrvvvvslltucTWkHDPGaOQzLiIiCnoikmQIPDTBo2bGP6jR8vcT+doeau8Ki7BFDRfBgGB1+umnu7BAEAM1dDRzpGBKE0YKwSAk0BzS9wbJg5+5Z48CMkGNWjKCCzU/8Wi2dsEFF7gAQU0HBWoKxb4wTjAgxJ599tmuNoTaKgryhBEK0ATUnArYsQhSrJcvpPt79Ag7NIGk5gvsSwLNtsZ+9gGL40ooyg/mjV1fjhHhg3BDM8dLL73U7rzzTnd/X2xtHWKbGuaFXj65l5Hw6AM9x7cgyyCg07slx5BjSRjjYgL/Enq4aMF5TqjcnjjHOWepyQPhl88CFy/8oO/UDHK+st58Nrjowb5PhEDI+c19g2wrPeESGHktfFNbERFR0BORJEPYIaQQiPyDoEIYo/BMM0pq/LhXLlGYyo/999/f3RPma2i4n4pl+/BBoGLZPOiAghoy5qW5IcGQGhOPnyncEqTAa5ifZcSjsEvnFj4w8C/L9PdhcS8V99l53McUG4qQn9o3guzTTz/tQgpDAHCPGk3zPv30U9c8j2amXn6WV9wIrT6wEsZ87V5eGNqAe8v8/nvnnXfsxRdfdM0U6RCE/c7xoYMdatB8cC8oau8IihxXjgHnR0FCHghJhKPYdeD4E3x8c0rOrfjxILc1wj77jZpVjgPbzjkai/OS/c5nhPOFCy3xnQN5fK7Ydv/Z4tzldexD8H5FrcUUEQkLBT0RSSr09kehnQ5JYh8U6ungg9oW7m2iOWdha6ModPqCp5eoIO9r0UAgocBKwT9+XsIaPUmCgjC1NIlCKK+Lf99YFI5zez6/qO30ndPQXJDgQ+3Uc88950IfBfXtiYBDgR90SsI9iflBk0u2hea7vvMWmhISaqkt4x5EmsVyvlBDlZ9mrokQyDjWRcE5QS1gPM4TX4PLcdjetVvUQvtzlfWi1jn2woJHbbA/TnwmaPabCOdvbE0qChqSRUSShYKeiCSd+IIhv1PwppaFpo7UBhEW4juzKAl+XQhwBIdENWCsT2ywK8i9XMWN9aOzC+6xYrgJ7sGjRobmpUyjYxJ6K92euJfRh02aphLg8oPaU+6RpCktvU9S88vQCjRVJVjR7Jd7Oe+//37XXJDfEx2vvHDMi3oMOVcShX2m+XUqjvcpKtYh9hzPqWkw2+ODc+xrRESk8BT0REQCNHH0TeG4X6uk72/iveilEdRA0VMltRnx4YH18D0JUgCmad726j6ejj5YF2q6qF2hmSo/06kN91rRCQ336W0vhAV6zuReLTBWW2xz1bwQjAh13MdIE17uF+MeMzpN4b46cG4wjAE9uCZqQrstcE4kapbJPaf+/ja2I6djwTkWe54RwEqiySP3a/oaOGrp6AU1UUDl3PfNNflcbM9zSEQkLBT0RESiKOTSLT0FeFBA5X6+kkSooMaJWkQQ9mhWGtvcjp/pUp7aRUIehWbCS2HvDysqgh41WSDo0cSRe698DQw9HhI2tjVCC7V49EJJaGBfEtzp/IP7wvLCdhFY6UCHjj7oCZN9zzYyLhud69ARCz1segS++Bqq+ABVUjgf6CGUppEe60vI9WNGUhPpm/xyfDin/XGi6WnsfXDcQ0dvl/mRU61cIuw/OrKhaSb7hd5d6bE1lh9bkfXmM0Hz6fwcMxERyZ2CnogkFYLck08+aU899dTmB+GATln8fXncQ8T9Qj6AlSRqxAgXoKbjlVdecfeBMeRC9+7dXTfyr7/+ugsuDMROk0HuO9teTfIIdb5zF2qzGJ+P8f0Y24xx+rhPj2kliaBBE0p//NhfhDB6oWRdfI+mDHEQP2B7TpiH7WFw8D59+rjj8Nprr7ltoSkoQYRtJHT7wO0H5o49FvTwSWAh8DKmXEmFPu6TZGB1erCkExy2m15BuXeSc4XBzLnX0N+vx3rSiQ7BC4Qtaik5t9hW9h/LSITt9dtIjSnjDRIUqVXMTy0gx8F3wEII55g988wzrqaU+zwZloOLLJz/rCPHcXtdyBARCRMFPRFJKgw0TSAh1PnHRx995HrZpGaBwiZjz1155ZWu6VtJI1DS4ydjtoGmbdTK+DBK2KPXQtaFLunpEMQHre2BWiFqW6gpInBRE0SvlIzJRw+V7EN6rwTBidDj770qLoQnBgv3x4+AwgDhhDGGnuD96HqfbvhptulrsXJDAKKmlPvyfK+PnBcMFs4QEgRuwje1ZmwfY7fRvJCLAoRfaqFohst707SVTmpYx5LqAZKwzzoT2AjX7HvCEgHQD39ByPUdn7BudETEc7yO40YNJkHvzTffdL3N0ptlIsxPYORCA/uemkyON+dpfjosotaXY8H6UAPJ/uGc4Z5Oak4JfIRzv/8Z7D8/x0xERHKnoCciSYWCMOGDJmT+QaGewjpDGBDwfBO9bVFrRs0QzQsZm41QQSGX2hfu/+JBzQZB0I/fRmE4Ua+F2wrry36il032EQGU/UnnNdTGEEQZPJ3x3aglPfLII11wKkhzv7wQNng/f/x4f4ICoZl7BHl/whk/+xqtvBAsaF5IDRkhjVBNwKHmioHHqdXjuJx55pl27733uvOEwM3rmI/5O3To4JriMqA9TSt9zWJxIYjRM+xll13megFl/D3OF+59owaRzmQ4JhwbOsdp3Lhx8MpNYY2AzrpTw0bnQzRXZT8SWBlfkeWxbB5six+mgfONwMy+8ecf9y7yuaH2MC+EzBNPPNGdw9TecSGFc2LEiBFuEHXWi+ayDFlB0PPvKyIiRVMu+keo5G8mEBHZTqhBYGw3CpQ5IdDR5T0FTkIMwct3kuJx3xlN+mi2RnNLaidougdqceh9kmZ/FPLptIMxzuhK3qMW5Iknntg8eDcFWga69ghCFH5HjRrlAp7vCIYu9CngE6ISDRNAAGFIA7aPAjI1J7EFfJobjhw50jUjZL0JX7Hhhw5HZsyY4baB9abZHAV5CvAsu2fPnm4fsq5sE+vDnw2WR0GdmiC2mZBEqGNsOLaVAbtZJgGDUMH+ZT+znjSHJJgQihiHL6/OUqhlJVTQ4QvLTIQQRu+f3FfJmGw5dVjD68eOHeuafrK/ad7IdrMu4DiwbQQZan+pIWT7uRBAbRjHgnMkvraXeWgWPHz4cHfs2F7CH/ensT9pUknNFTWe1HDxHPssHqGV+VhHX9tLM0ywXIIZNaXU6BHsOHace3Q+48cB5MHziWrFeC3ryLqyPGpoOS+OOOIIt00cF7C9rJ8/V6iZZN2p+SZcs018BmiSyeuo2aNGlXXhs8N5xH5iOR7nFMeRfTtt2jQXUJmXY+Y/d9QaxmO51I4yP8eL943trIVjxhAY/t5W9i29p4qIJDsFPRERERERkZBR000REREREZGQUdATEREREREJGQU9ERERERGRkFHQExERERERCRkFPRERERERkZBR0BMREREREQkZBT0REREREZGQUdATEREREREJGQU9ERERERGRkFHQExERERERCZlykajgZxERkVxlZmZaRkaG+T8dO+ywg+24445Wrlw593ss5mH+1NRUS09Pd79XrFjRKleu7F5Tvnz5YM4tZWVl2caNG23Dhg3u9Syb+atWrWoVKlRI+F7yD/ZfWlqae/j9xz73+6+gOHYcQ45JTlguy+fh8Roe2dnZwZStcVxr1KhRqPUSEZHcKeiJiEi+TZkyxUaNGuVCBEGtfv36dvLJJ1uVKlWCOf5BUPv777/trbfeskGDBrlCf8uWLe2iiy6y008/3Xbddddgzi3Nnz/fvv/+e/vmm29swoQJLgi0bdvWbrjhBtt///2tUqVKwZySyNy5c61nz57WrVs3d7xq165t7dq1s+uuu8723XffAoeqYcOG2SuvvGK9evUKpmxtn332seuvv95uvPHGYIrZCy+84I79ggULgilbO/vss+3xxx+3vfbaK5giIiLFpfyjUcHPIiIiOZozZ46999579vTTT9vPP/9sv/76q82bN8/+9a9/WbVq1YK5NmE6895xxx02ZswYW7Vqla1fv94V+nndpEmTbOedd7bdd989eMUmLPehhx6yjz/+2GbNmmXr1q2ztWvX2uTJk6179+6uRpDXVK9ePXiFxOrbt6898MAD9sUXX9js2bPd/luzZo0LzOw/avaaN2++Rc1bXv744w8XHDl21BYmetSpU8cOPfRQO+KII4JXmb3zzjs2duxYF/ATvYZHixYt3IWCunXrBq8SEZHioqAnIiJ5ovkd4eGDDz5wNW7U1tGkr169enbBBRdsEbwIFj/++KM9++yztnDhQte88+KLL7ZjjjnGhTYCg19G69atrVatWu511ERRuzNw4EAXDg444ADr0KGDC3YTJ050YZGAuN9++9luu+3mmv3JJjTOIYg//PDDNnToULdvqT2lxox9xX5bvXq1248HH3ywq03Nb80owZzaQY4j+55w1rRp0y0eTD/ssMNcjaH35JNPusDPe1HjR8CMfx2vIRz6c0BERIqPgp6IiOTpr7/+sk8//dQFBkIdtXM03WzUqJFdeOGFWwS90aNH20cffWQjRoywmjVrGn9mfNDbc889bfny5a5JIfd8URNEYR9du3a1b7/91pYuXeqaGt5666125pln2iGHHGK77LKLa0JI2COgEBwaNGjgXiebgvi7775r3333na1cudLat29vN998s51xxhku8FFjNmTIEBf2qNWjCSw1qnnhHj+CXp8+fVzgfuqpp9wxoRYu9nHccce5kEczW0Inx/b5559363Lttde6ZqOnnXbaVq87/PDDXRCkplZERIqX7tETEdkGKIgTfLhXLSUlxY466igXcGhaN3z4cNdMEdR6HH/88aWq8EvtEM01P//8c2vSpIlbt88++8wFLraBJoEEMfAnhWaX//73v23JkiWuNontJlQQDKnRo9bpjTfecIHjlFNOca8H9+GxL2jSR/PDu+66ywVIwsa0adPsyCOPdPuO93/99dddbVVJdMzC+xFWZ86c6WotfQ0YTSHZlmXLlrmazFatWrnnaAa5vTuIIVi1adPGBXKOwRNPPGE33XSTa1JL5zncK0nQZnsaN27sQuGpp56a53pTO/viiy/aY4895vY/ta0ct9xw/Dj21NRRe0voJ+irwxURkW1LwyuIiGwDFH651+nNN9+05557zjWF69GjhwssFKSZxoOfX331VdfEjgJ6aUBTQO6do3kdTSlj78OKR5CgRm7x4sUuqFLr5kMeqOFjGssi5NLckNpBHoRdQiWdhxAcfS0hAYHfGzZs6H4mPFArWFL7h6D3yy+/uGNDhyK+Y5OXX37Z1VJxnPiX36nlZH225zVTLiLQ1JVgSuDbaaed3P7y901yHOg0h7BK80uaU65YscJtZ16oAeRBqCfgEXa//vprd/8d2/7bb7+5YxG7/ZzrNM1l+Rxvji21sQQ+7tuk1pEa3dx64xQRkaJT0BMR2UYo2PKgIEwnFRR6v/rqK1dIp3BOyKHjEgIE4WLRokXBK7cfmkp+8skn7l47esqkFihRD5se20DBnoI/wYDmfvG1RtSG+WaD7AvegyZ+/AxCCvsjFkGRZp++lpN9Rs+fJYFjRBgaP368O070AEoNJB2dsE2EJoIMvYJSc8Z0ws72wvqyD/3+IxDH3/PGfttjjz0216rld/+xXYRCXkft3ttvv23/93//5zrZuf/++13oZT9MnTp1c9gj4E2fPt39y32UNP3873//a/fdd5+rpaUpL0GRMO3PFRERKX4KeiIi2wG9SFLY5l40uqTv1KnT5q7vKbhzTxRBIz8ojNM0788//8zzwXzUQOUHBXAK4zSn9E1KafaXG8IDYQ++Ri8e93FR0wPCCc0xadLJdoOQxzyxqIkiAPqaQd6D2sNtgfBN7eNZZ51lt912m11zzTWuySbHisBHTRXz+PXPDc0+i/tY8b7sPx+YuO8xvhdU9hvHgv0I9l9+akRpgkntLIGM9aFZLu9D2CWcUztHcKOTHmpyQcDzNdJM475L9g9NXAnK48aNs9dee83dQ0iQzm18PhERKTwFPRGR7YB71+688057//333b8MKcCYY765IgXl/NboUdhmiAPu+8vrQeccNEnMC+GBAEbnGwTJyy+/3N3jlRcK9z5AECoS1f4RkHzNEu9D6ODhgwrNBP3zsagd8rWDvEd+mh4WB2rHGCOOZreEcu4/pAdSaiXZRpq2EsrzU0NGc938His6PeGcyAv7LXb/sZ98zafHfiNk+f1HSM7P/iOYUpPHeUnTT5ruUuP8n//8x3WkQqAkzNHLKjWfYLncU8k68Dru4yQgP/PMM3bVVVe5GkfmoRaQfUpYFhGR4qegJyKyHZx44okuOPkaKgrnBx100OaAQ21ffmusqBXzASuvBwVs38QvN7w/tTTcN8fwCdyXF19LlAhBwoeJ2J9jxU8noMT+TnjK6XUer/HBpqTRXJXj5UMrx4hOaS699FJ3PyG415DmrXkpiWOF2H2TaN/Fy+/+o+ltx44dXbNLOuShySUXCwj+X375pdsvIOj269fPrTdB/dhjj7VbbrnFHnzwQRfmaLJ5/vnnuwsaNIP1WAbNZPNTGyoiIgWjoCcish1QuxI/DhyhLz7M5MeBBx5oN9xwg91+++15PqiZoglmbggYFL4ZB411JOhxf1d+EIJ8bRKF90S1XDTV8831fK0fD7/tPMc6xCN8+n2SU61fSWjWrJmrzYrFe1NT5Qcep+aLpox5ocknxyDRsYl/MCQBgSkv7LfY/Zeoto79Vpj9R60d5xbNLOnllNdwzHhQo8nFCWroONYsn9o99skVV1zhhsfo3LmzG3ePc5vX8BzhkR5LWV/Wk9fQNFRERIqXgp6IyHZAIdcXzIuKoEcoSBQW4h+EjLzCAwV27qOiySY9LtJUkVochkKgOSE9g4JCOvNRU0NTRuYnwPIAgYP7u+LRFJDlggBA00ju2SMIgI5FaDYai5ot7lfzAYZgEx+USwrBNT4Uceyo4fTrzHrFh6tECEYFCXr5aS7LOrD//PlE4OQYxmLd2H++hpDAlZ/9x7Hk+FBz6ZsVexw7Qp6v1aQ2j/f168N0XhvbjNTvN8KzR8jjtSIiUrwU9EREyjgK4HSS0rRp0zwfzOcL5jkhDBC0qP0hrNExCOP/MYba4MGDXUcyoBaHTkDoYn/u3LmuJo4A4Wu5qM2j98X4mkl6cSQUghBA5yE8fGiiCSTzxGKdGD6AQEBYYJt9U8qS5gNvLLZ9xowZm5vXEmjiO5BJhHmK81iBwEUHNn7/cc8bYTkWQY/1ZT+y/1iPvIIe9/0xDAL3IDI+X6LQzvFnPrAeHE+CJq/hwb168bV1HMPY48t6bKvaWRGRZKKgJyJSxtEz4u+//+7GKsvrwXzcT5YbmvURNGiq1759e9fbpH9wvxq9g8IHBgY6Z+gDan8o6NM7ZqNGjVwIIrT5MdVAaGIaQZLX0psngY1wyDL4l1BF7ZMPKyyHIEkTP4IK60azwfyEAwIZrydsEEgKU3M0atQo1zuk3waWybr16tXLBR2wvWx3XghLxXms4GvJ9tprL3cMWDf2HzWnIICz/2heyrrTdLJu3bpu/yXaPz6Y8zudrDz77LNuPEE6kokN7RxLgiDLZVnU4hF42UaGU+B19K4ZO/QC4Z91mTRpkpvG+jLchq8FFhGR4lP+UfpFFhGREkWB2hfw6aqfe5/o4IQCt0ch+5VXXtlcA0LvjNwHlpcRI0a4bu+pdePn3B50mkHND00Ic8LzhDDurYrvCbJly5ZunpEjR7rCPaGL8dRYT2qVmEZhnqAxYcIEt90U6FkmvYgy5txPP/3kwh/3/dGpx6GHHurCCgGFLvz5l/mZRkihB1LGG2T9Wd65557rxvTLT7DiPYcMGeICC81M2cfUlPnar0SYp3///m5+toUaKkIeNU+EH2qpGDKA5qocK5ohch8j951Rq5Ubjj/HirHl4o9N/IPtZnk0zc0PAjLDGBDw/PaxvmwHg5xz/uHCCy90gZ2wTHimRrZ3797utWwvoZXjSKimJ03GyWNdCHCcF8zDPiDoMgwIwZ19QLNeOmfh+DG+IMeS+dgGjiUXJAjNBEb2A5iffZdoGA4RESmi6B9gEREpYenp6ZGXXnop0rBhQ6o2IjfffHNk6tSpwbORSDTARFJSUiLRwrd7nscbb7wRPJu7d955JxINPZtfl9uD+e65557glQUXDamRd9991y2rUqVKkWOOOSYSDQDBs5tEC/qRjz76KLL77ru7+aKhI9K2bdtI+/btI9GQFYkW+iN16tSJXHPNNZF58+YFr4pEZs2aFenYsWOkVq1abp7mzZu715xwwgluGSxrr732ivTs2TOydu3a4FW5i4aYSDRIuNfWq1cvct9990Wi4TF4NrHU1NTITTfdFKldu/bm13HcoiE30qlTp8hZZ50VqVy5slvHaPCJ3H777ZFoqA1enTuOaf369d1y83rwntEQHbwyd5w/M2bMcOvGOrFu7Cv2H8eI/ce0vffeOxIN2+444o8//nDbxPvxultvvTUSDYzuOUQDont9NPi5480xueSSSyLt2rWLRIO9e13dunUjnTt3jowfP969huN/ww03uGPsj/Vxxx0X6dChg9uHTIuGv0g06EeiIXKL9xMRkeKjppsiImUcTd+ooaNmLK8HtUPU2JQk7iuLhjPXmQi1gjTn4/6+H374wdX2UKNGjdxll13mfvaoFbr66qvt5JNPdr1cUgPEa6hxYpnRkGJdunSxI4880tUsbSvUZB599NHuvjJqt6j9ioYVtx9ZV2ol99lnn2Du3PmeKhMdm/gHxyq+t8+csD40g2WfU0tGJynUqrL/qEWjtpV1ZDy71q1b52uoDNAJDwPEU5PLfZTU3lGT+fPPP29uBkqTXmoJ99tvP/camnBSo8e+odaW+aihZLxHmnoy2Dq9jzImIc1+OT9ERKT4lSPtBT+LiEgJoekfg6MzWDkBhsIzhXIK5+CrmGaAFMJ9RxXc48QA06UJ60jTOwZ5514+AgDj7RFg4jEv97Z17drVdcxBM8L999/fNb087bTTtgh5sbiHizBFMKDjF0Ldcccd50Ig4acgvW3SXPF///ufde/e3d0L2KlTJzfYN+ueE9b7nnvusc8//9w1h+QOBwYKp1Maml3SqQkB55JLLrHzzjvPNb8laJUWs2fPdk0uedAZjg/enEvs/9heMDk+7733nmsaSwc3F198sRszj7Dmce6yHPYhTW/5mXBGc122n55BEx1/mt1yHFkPjgM9ctLU96STTnLNNQmepWm/iYiEjYKeiMg2wj1PPPja5b4lf+9SLDrG8F/L3CfFPKUN2+A7JuFeMNYzpwI7tTl+m3kwv3/k9Brmi30d88W+riD8cgg0DPZNuGS4iIIGPcaSI8zErhPHJrft2F5y2n+JzjeeZz4eYB6OZzw/H8v1y/T7wP+cSPzxZ76c1kVERIqXmm6KiGwjFG4JGL47+UQFXf88D+YvjVgvv47UDuVWYKdQzzx+u/g5r0I+z8XuK/5lfxU05IHX8FoCG52D0PyzMMtJtE55bcf2ktP+S7SuTOM55uPBz4n4+WKXybFkX+a2D+KPf27rIiIixUtBT0REQothHOhx891333XNEY8//ngXgkRERMJOQU9EREKLoRHoAOaQQw6xe++913Xjr9okERFJBrpHT0REQouObRgrjiaD9OqZn9o87pP04/Zxv94555xjbdq02aKDEhERkdJOQU9ERCQGHYjQMyoDj/MznbD4weBFRETKCgU9ERERERGRkNE9eiIiIiIiIiGjoCciIiIiIhIyCnoiIiIiIiIho3v0RKRI0tLSbMKECda1a9dgytboxIIeC/fcc0874ogjbI899nCDKCdCL4fvv/++zZgxwzp06GCHHnqo1ahRI3jWbMOGDe79Ro4caXPmzLHMzEzXWcZ+++3nutDfbbfdEnaf7wfM/uOPP2zBggVu8OZ9993XjavWqFGjHDva4Cty8eLFNnToUPe+jMtWv359916sW7169YI5tw86C/n111+td+/ebt+wX1u0aGFXXnmlVa1aNZhrk/Hjx7veJBlyAByPSy65xHbZZRf3e2nBsaenzKysLHdc6tata3vttVfw7D/Wrl1rkyZN2nwu0KMmA6Ifd9xx1rRpU3eMc8Ly6VWTc4LhF+hs5eCDD7bDDz98i/3Be3zzzTc2efJkO/bYY+2ss84q1IDrJYUeQufOnWuDBw+2KVOmuM9DkyZN3HbwmahVq1YwZ/5xzs+cOdN+//13t3/XrVvnznPO+aOPPjrX3kf5/LIe7NvZs2dbRkaG258HHXSQtWzZMsfhLTgGY8aMsT///NMWLVpkVapU2fz5bNiwYb47wpk3b54tXLjQfWfwPZPoHPCf6bFjx7oHP3Pu8N3RunVrO/DAA3PcRj5vfA+wnpyn7Bv28T777GOHHXaYNW/ePMft86/jeLEOjRs3tlatWrn3q1OnTjCniEjxKf9oVPCziEiB+YJm3759XaE40YPeCwkXBCwKO/xO4S0+iPjQ2LNnT1fIP+GEE2zXXXfdXLCmENetWzfr37+/TZs2zfWMSAFq2bJlrlDJNAqaFLZiC+MUPL/77jsbMGCAK8AyP69jfcaNG+cKkRRkK1euHLxiE4IThd1PP/3UFULnz5/vuuvn9SyH7a5evborvJYEfx0ur3Hf2FcUVgkt7FvWj0I1hVU/nMDy5ctdICIUEnopoHbs2NEFopxCd2Hkd51zQiG/V69e9ssvv7hjM336dBcWCGGx2P99+vSxn376yc1DcOOY8nrOIQrkFJ6rVasWvGITgtDo0aPtiy++cMeWY8gx5cE5xLJ4DeGEc4j9N2vWrM2Bh5DPozRgnYcMGeLC+8SJE93ngc8Z//JZ4HlCSEFCBPutR48ebt8SgviMsBzOH/YDgZcgyXkf+xnjuLP/unfvbv369bOpU6du8fnktRwz9j/DXMSeHyzz22+/tUGDBrn5mN9/X3BOc37y+cwtuIPPPucO30W8DxcyCIyxWM/ffvvNvv/+exs+fLhbZ7aPzwTnEOvNerLfeE+/nryO74MPP/zQnZvsbwIl28fr+W7gtSyH9/WfO17HfuQ7jc8e4ZDtYz7+5XzjIgXbxndiYT83IiKJKOiJSJFQCKdwPWzYMPc7BRVqyCgMU8CsXbu2K6hRCONBwYgCFVfPqalhfDNQIKLgQwGcwtcpp5zirnb72jwKfgQVCva8HoQZrtqzDhREmU5hnIDD8sH7EfKoYWAZ1P4RGlg3Cvm8J69jnVkfX3NAgGU9CHkU4DZu3OhqGKgtozBMIY/XUcPHdAqUxVFIY9kslyv/hAuWmVtBnecJzLyOQjLrw7qyP9k3hBZ+Jqiy79hPBFpqp9q2bev2b1HXm/dmP/7111+uAMzvhanp5HUEDArinFNcJOA4cFyoCfYIs2wLtVjsKwrl1K4SuLkYwDYSMjjWBDYfZCn8E4g//vhjt57+ogDHj+NOsGA7eD3T2K9Mp9DO6zgPwPnjC/LbC6GDwMq5zXnKvqM2ihDFfmN92RbsvvvuW13ESITzhvBLWOJcAqGFc55QR5hhf3Ns9t9/f7d//LnD/qbWm4spvC/nHTWAvB5MY524mMO54WtN+UwSgkaNGuU+q3xvUPvH9wbHktfxnnye+Rwkqtnz3x0EPNaB48jyOU7xF5PYVwRRPl/sJ2py+R6hdo33IbTxL1hPngfnCt9xnJ9sP99b1OL5fcP3AdvCerDNnJOcI7zfwIED3fcP5y3bwPcax4R9wXuxX8D75fZZFxEpKAU9ESkSH/QonIOC2JlnnukK5jQd40FzOgrhFIRSU1Pdg4BB4Y0CEShIURPzww8/uIITTQopfPkCNbVyFNAIZ1z95j2o8aPASUgj4LAeLId1OvLII91yWC8KWhTeWQ/CzVFHHeUKWiyHghjrRVBjORQwQYGP11G4oyB54okn2kknneQKjxQiKaRREPVNtwgMhS38E0Ao5BLseD8KvTxYZ/abD605YZ+zLYQiakdYX7aJgigFR5ZDAZjCLQVzlnn55Ze7fwu7ztQiUivB+8WuMwVXCuvUFBYUtRs0QWW5rCf7he3iPIgNemwHtT8U6HmfU0891QVXmndyHAkkbDOFcbbRh06OFceU1/pz5OSTT3YhkZpjtonaFY4Fx5TQxPsTWiiMEw7ZxxwPH1S2Fx8gqPFi/U4//XQ3qDsBlXOYfcjnwQflvI4H5wzBhxorls05xeeL/UPTQv9ZpLaLfcH+ogaK/QM+u3w+/fE///zz3f5lfXhv9jdhkLDDcgg74LzkePB547uCzyev4/NJQCdwcjzYRj6f/vuCUMrx5+IP4ZQm2XzWOe5sC+9JgIsPej///LM7T9k/fGbbtWvnmqPy3cCFAbaP84T15NzxTTH5PHGBgH3KerGe7O8DDjjAvY7vA8IeAZx15CIL4ZrPBtvIvmVZZ599tmtWy2eTfcr7sM48zwUq9peISHFRZywiUqwoxHFF/phjjnEPCuDUznFvEzUOvrkXTcsowHlcCacpFYVtrpJTkIyt7aMASRDg9RSkCHoUQJmX+3go1NGcjKBHYZ1/eR0FQd6H9SIUUnilUMc6/utf/3KFMQpyNK+ioOZR8KRACAq9FHgpnPJatoufWSahlZolCrIF4YMS4Y4COwGH2hmaplIwZHkECgqR+cF8/v5HsGy2nYIpYYD78whO7DvWn1CUqHYkN7HhjnWmdoMmd6wzTQgpfFN4LWjTRo4TgYRCOMeZY5pTuGVearIIG5wL1J5wfnFcKCS3b9/ebSPHlH1LaPG4GMB6sh1sO+cm+4zX8i8Ffo4p+4ljyrEF4ZHgQXhg/VgGNWjbE+c4wZPtZHvZbn9RhXOV/cL+YX2paWW/5Ybt4dgS2Dj32FbudfTnPOGLYENwYlk0Q4z9/PIznx8+swTk0047zYUZzkcurPj7WQlRXKwByyGc8b7sdz7PfJZ5Py6oEF5ZHtvoj7lHsOLiD01FuYeS5txsK8c2J2wjtbJ8tglrfAb8ucO68n3Aecd78n1EMPW143yf0OySZRBwOVdYR5bBvXl8t/n3IJxyPoNlEOQIqrwPF4s4NoQ+vosIigQ8giTziogUJwU9ESlxFNQIYYQrfgZXsH1hiII1hUQKcxSyqD2jYORReKKwRe0BNVQUQikc+dBIoZ1aCx5gfgqULJ9aN66yU1inGRbrAV5DwZNCMsuhEEmBk4IirycUUGPA+vJevK9vAkhhl99ZRwrFhAkKnnkVpkF4oJDOthKWKKh+9NFHriaTAigFRwrGBGNqGyg05wcFZWo8eA37ifWmEE1opNkY70mopZBJIdwfh/xgnSmc0/yTAj73cFHzQzClQExhniBA+Ob9fdjML/Y54ZFgyjEigBGsEmF/c65wfNke5vfNezmOHFNqtDi+rBv7lPOLY0phne3gOHEecAx9jRTL4vxhWczL/mK7+RkUzAmSnBeEZoJNfo53SWB72C62j+3kHGbd/efBn69sE/uJ/ZXXhQiWSe2S3ybCNsvw5wmfS97DX3ggMLEv/P7hs8CxYH4evK9/jrDE8pnO55ALAbwP68Tnk88Onyle7z/38Z9PLliwfj7IsSyOHcsi4BIS+dl/RhPhtbyO96C2jsDG+nhsIxcq2G/g+8MHPZ7jYhKBlfMzdt+wrv414Gf/HOeibx7NcjgHPb6XmMZzzMP2i4gUJwU9EdkmKGRRMPQFSQpYFJBA6CNUUQiioEbNGwWrWP4qOg+uoPtCrcdy/bIpOPF8bGGTApcPeR7zsFy/HhTqKNxRAI0thFEojC9AUjD1wZL5Yt8rN9Qc0nnG66+/bl9++aVrKkahkdqB8847z26//Xa75ZZbXE0DtZq5FVzjUVikBoawSPBjf9PpBDV6YHkUUv165xfBhloT1vmzzz5ztbEUSgnu5557rt12221unWlCSUG5IOvMPqMAz/LZ7yyDmo+clsE5QmgA20uoiUeB3wc4X1jnNQQ3f47EzuPxe2wNKu/lgwXbS3NN9ivTqfnyz21rbA8P8DlhW+IRkPy+YT197WRO2C9+v4Lt9GHF4/Pi9xnLjD0WBGE+mxw3OtGhdp4aMGq3OP9oWkmNG+cm5yDvFxsUc/t8si4gEPqLQ8xLE8g777xz84OLDZwTOWF7+G7x3yOscyzWKfYz7L9HePDZ+fe//+0e9AbMecI+4DhQE8eFAeYnRBIGfYDkM8K9ipzbfPZpZso+4cHFHn7n2PD5J0iKiBQnBT0RKXYUxiiU+QcFQq7IUxvkC9rUVFEYBTUTBB4KVBSUKLj6wh34mQLTjTfeaNdee62rNYp9nvej1sI356MwyrJ5X19wowDoaws8CmaELL8sH/J4sN5geRTqYt8PXLWPDRnMn5+gR8ijlo3CHc3FLrvsMnv44YftgQcecM26Er1XQbDdV111lVs3to+CKNvD+lJLQyG7oKh15NgRZlnGpZde6tb5wQcfdIGUAOTDckGx3whNhElq8aid8edFIgRwv58p7Ccq2BMafFBk2zmuFMr9MQXHPT5MEpp4rcf8PswxL69hW1kHmvX65/LC/Oy7/DyYNzZwJeLPU7BeiYI757o/39lfsdueCOcc+5JzBtR8EsD9vmZbuSDjm10idv9Qm8y5wDnMdrzxxht21113uYsAjz/+uNtfHN8zzjjDBRq+B/h8+u8Dztf4++n47LFtsZ9Pv294jjDFMfEP1j+385DnuEeO7xHOYcKVx3qw72kezmeT9+T88uvkv1d4sM+Zn+aWnLe+91c+Y9QsEiL9vifY8n1F00723Ysvvuj2CY9nnnnGvR/rQS07ny0RkeKkoCcixYoCKM0QP/jgA/d477337Pnnn3eFPe4p8gU7Cnu+JoJ7WLjCTSGKwqAvbOYHy6NpIlfLKQjS3MvXLPC7fz9+T1QIpHDv3491pyBJ4dYXpBE7j0fBj2V6BCr/XvnhawR58HNBtjk3bCM1FdR2xNaQUJiktqywgQwUrFlfCtXFsc7sL2pDPvnkE7fPL774YleDkxv2sw8fbEtOx5TjA46nP6acD17sPB7bw3SP+f17gRDIPVwEHGqp8gpkHjWhN998s1133XV5Pij8c09dbvw2gW2IXWePoOIDUvy2J8K5zHH1zQ5ppsuDMMPrqbHiHsrYwEjI8+c889CclVq8nNDclLDjXxf7meH9/frGit02//ksCewf7jXlohPrR80fIS2nzwsh9fPPP7enn37aDbfAenGRplOnTm4feiyLC1C0WMgJF8GYJ/ZcExEpDgp6IlKsKKxQQKQzCx7UXtGUi9oAX5DhHjya5/mr5TxHsy4KddQM5DdAsDy6VOdeMYIitQI0kyLQFCfWp6ihxvNX7ink0rzt1Vdftf/7v/9zNSAU8KkNKWqBj3WlUBwbPKml4B7EwqBzD2ofKQxzHx3BhXVm3WmSF9sEryAI+IR0Xs89iRz72PCcSPxxyM9xid0PXmGOKbU0XEhgeeyL/IZ7whHBgGOQ1yO2liy/Em1HQbcNXBggbBPoOZ5csOE4E1Kfeuopd6xiEcz8+/CZZ2gUOkgh6FBzxmuowbrhhhtcaOJ402kKTZbj5bS+hdmOguD4sV7cc8q6cQy42EDNJLXLOSEA0iqB7eICAPuLwPbss8+6sOs/fww3QYdFBGWCIPuXfcLD93zLfYp8h1ErmJ/zSUQkvxT0RKTYUVj1BVcKuBSKqa2j4HTllVe6+7poAkdtBAUkX0NB4cl36JAbCkOEA2qC6K2SQhSFLZqOUcD0zRYJDX5ZFJ4ThRHWzReufC0I6xV7JZ91iy+AsazYWj/mz0+hlNrGzp0726233up6FWS9qeUg9FHYpHBMLSiFampAEq1zblhXCpr0OElTNI+msf5+oILi3icK6zQ3o8MVavUonBL66EiGdf7f//63uXv7/Kwz68k60bU++4B9Edt0MCex+5n3SRSKOKZ+HTievIZjGhsief/49eQY81rPv87jHPZNRZmX8zw/20qzY3pYJDzk9eAeSwJBbvx5CtaDbYnHND+d/RV7PueEgMZ68jmi+SwXYAgvDFfBttIJUmxHO+wP1oOLE5xzhDxwIYPzhIs51NDTXJheTakx5IIOF344T/I6HiBMe7HbXRw41nxO3n///c1DILB9hDGOg7/PLhEuSrFd1MLSFJQLOHwf8F1ESwY+uzR9pZMhprGvaNbJRSj2CQ8uoHBhigtefJ6Yt7AXY0REElHQE5FiRYHyggsu2HwfCg9CzU033eTGxqM2r0mTJpubZFFQ9SGKAmmiZmixKPjRBPTdd9/dPJYaV9UJeIxtFVsjSEHN/0zgpLAai/elYOULmLw368+DghmYJ7a3P4/1IGx6se+VG0INPV9SkKTQxz16V199tSs0sh4UPOm+n2ZkDFydW1O4eH5dY5ug+Z4MCXjcT8Sy/f7OLwr9FIBZZ/Yx9zddc801rit8UMCnoMy9fHT+4gcWzw37jgBB001+Zp3ffPNNe+2111xo9B3IcMw43u+88467n4lj4wv7BNnYMOtRYPchnDDBg9f4YwrmiQ9IvIbpHsEnNujFXwDIb80bQZmu+zlH83pwHuTVfNVvE9iG2HX2ON/9vmG9Y5sT5oT5OF8ILVdccYXrHIhzlNBG+OFes9jl8DP7lXOO841jRWiJ7QGT5zl/OOf5bLLPWF8CJJ8Zv39Z39hQBz4PNAf1+9l/PosDQYz7TqmFpCad9+e7ie8uzvPc7hMF680FD5pJ0yyaDqLYZtaVwMbyObdp+kqgJOTSayuvYZ/w8NOoJebcY1vZjyIixUVBT0SKFQUYOh7ganXsg5oCajYo3PjCHQhHPiARQOIL37GoOaCnup49e7rAQkDw3foz5ldsyONfmqL59yLQxQYzUJCkMObfk4KrL0z6q/nMQ6E0fr0oRFMwA+9FmIrdrrwQOmi2xb2K1KAQBBhkmgcFZdaV3i0LUvBj/1BoZUBx1pdaU2qJqFnhuFCbQs1hbvcL5YZ9wzITrTPTKCyzzrxPXijU+2aq/EsTN+4B40GAJwSCAjAd7TCN5fpaJBAYEtWAsM98zRzr7F/jmwqDZcUHC36npsljfv9e4Pxkfb3Y53LDPqOZn6/Jye1B746+I4+ccJ760Mp2cg7HY9/4853zOa9lemwfnyM+T9Sy8tniOPP55QKNP7ZcsOAzwj5gHfz+5vdEHeSwzj4kEoYIhXw+/eeVz1JOn08f9Pzns6g4nwh5dKLCxQ+OM02H2VZ6zIxffz5LfGa+/vpr96Bjmdh15VgQ4AhsYH4+C1xc8d8bhN7Y889jmt8m5o2/GCUiUhQKeiKyXVHQoyDKw1/tT1TjRCGcGh2aavqBzAl555xzjruaTsEzFsulYEgBjIIUBTOurvtaDt6LkMA0fub1vtc+HhRCqd1gXSj8M68vtFEY8wVT5qWpHQW2ggQ9j/WkoEgnH9QoEJqoSaHQyXbl1YzPY90IRwQlCt2sN83lCNnsJwIE+5Ax/whVflsKi33KUAoEANaZ5risM53AJOruPx6vZz5qNLj/L/ZB7aHv0ZR9ynGhOSD/Ei44LhxbCtLUnPjmqGwzx4ljQ0BkGdTM+Jolwg7nA/uc4858PqCwb/id2ime98c0NswxLwV4j+PGvHkhHNE0jyZ8eT3olCP2PRLhnGPb2B+sE8GW9fafG/YH28K5zn7i4ooPhiBAcfzZR/zrwyvvy31iPKihBc01CX7sBy54sL9BM2zf2Q/vwQN8NqiFjj2/WD77wF+0YFmsv/98cnz43Pt1Ruznk9dzzNne2ONRGHxmaXLM54Smwxxnai0ZMoFaR19TGov3Z93pMZcHNe0EUL+/WVf2XWz4YznsH788to/PJ/N6/Mw0f7GCefMbyEVE8qP8o1HBzyIiBUZhkQIg92eBQii1SP7qdl4oKHOFneZOFFopABJQ4kMT8zDAOAVQXkMhnMIZAY2CLQVd/6DQ5YMXBUUK2dQaUbBkOq+n4EZgpLdOClxcySdY+fVmXSjUEox4nvehsOwDJ52Q8BwFM19bybYXFcugYE4tHIGH981P4ZbtGTZsmKv5AgXYCy+80BXUKSCzX+iwhn1DoZuAxbILE07jsX4UxAljFJZZ/7zWmfelIEzAJTTEPqj9omBM6CEQUtPFsWZbOH5sCzUs/MvzHAP2G0GBY0qtL4GDnhMJnr4pJMeRedgPBBEfNviZkMU9jNRIUuCmWSr3T/kAAwr3dDrCPZWse/v27bcIUDmh9oh14hxn+bk9WD9/kSEnnL8cR9aHzx6/sy3sCz4L1FJRq8txptaY5qCxXfdzXvNe7AdCBseK/crPL730kjuPaDrLNII1y+Sc5zPOOc/8XIyg2SLvye8cD5rwst85dlxYICDxuePzR8dMDKMBgiPNQFk+68LzvAfv5YMO28bx4PNJoKKVAJ9Pzq2csHzCG8viXKGWmfeIxfL69evn5uM4sw0EPc4N//3hH7wvx5dzlQDK9vuafL4neI7f+W5ifxMgORYcO7aPzyD72W8f3ylMY78QCtn/dADD+cQ+5DN/zDHHbHHOiYgUhYKeiBRJUYMeKPRQWOJBoYpaqNigQIGLAja9AFKw8kGPAhf3tNG5Q+yDq+QUmiiEEmYo1FGgpDBK4YpCJAVvai4o4FFIpukW4YfXgEIgBU8/bAPvQ5ji9TQbpSDMttKcjfuXeB/WKy/sK9Y7vlCZ6MG+5T18rUBOCJ9sT48ePdz+YR/S3I7wSsGZoEcwIMywXIIN20I4pVCZ13qzvwjM8euX6MG+Yn3zWme2i/1OoT/+QU0f+5lCMseZWj6CHseDdaWWjmNJEGTdmI9aV469P0cIS9xPSFjzYYxziuPEuUQg4XUcD98ZDiGReSiMc+8k/8aeh+w/5iPIEMKpgWU78sJ9YLyOIERgyu3BelFTSgDODfuCfc39kHx+2CbWizBJbRXbxLGlGTBNMGNrigglDHxP7TjzsU8IPHzOWAb71p8v/Mx6cYGF92B7WTdqcf05z7Fmn3Ms+JwRargQwnnOa+kZl88PnzW+Fwhs1DKDZXAcmJdARJDkuNIEmRBEKOI84f5FPtO5nVd5BT22j4H5ueeTzxbLYv3ZxvjvEB4cewKr/05gP7OOfN5YZ76v2Ed8HxCOWT7HpU2bNu4+P7aN8Mx+4bPBZ4jvDX7mONHTJssD5z37hOMlIlJcFPREpEiKI+hRQKIQRE0EIYT7vyic+wDCNApe/j1AgZj3JdTFPyikUiNDIY9CIsvyzS8pyBIiKKRRkOM5mhweddRRrmDmUQjktfxL4ZECJ+/Ha1kG0ynwUqtDYMorLHkMNE738hR+83pQSGadciv0s+9oKkdNHoVH1oOQQ+c31H749SLssQ1+H1OYpvaNUOULsjl54okn7NNPP024jvEPggfvRUG7sDinKBBTmOb4EHyo5fXYPqZzPH2w4BhRaGZ7eY5ziPvMCGsex5uQyPMEHArsPrxz/nHuMj/NUAnJsaGC/cy+I3wQmgiR1JLFBsGcUNND4Z4Azr7O7UENHMGWgn9uCHGsB+GJsMH68S/bwnax7oQGapY4zrHYdsIO+49zhO0g6PEaLnYQmKiJY78SgghfnPOsH/cb3n333e7f2G3nPKImi+NA6OMYsj6cmwQktp1zmc8ZF0Z8QPafT46Dv1jANvBZ859PQh4hKK8OUvIKenxn/Pjjj26bwL5juxJ9h/DgWLA/WAf2N50+sd/4fmEf8x3C9nEO+s8dYZSeONkupvHZ5V/ek/dn3/C55nX8zn6g+SrHiU5w8nM+iYjkl4KeiBRJcQQ9ClIUuKj14PUUlihw+8IgBTcKWBS084NCFlfVKeRRyOKqPAU2CqIsi4IahTJqexjugeZSFCKZNxYFWwrJBxxwgAtJrCP/sjxqHemhj5BHITa/KGgSKiiY5/WgAEihP7egR2GRkEfIYt0IWR07dnTrHBtUKKhyrChEU8AHBU56DGS/xG97LJq6URBPtI7xD5bF8SvJoAeCBfuGfzmmBBPmJdxQG0dzWs7B+O2iIE1TUJp1cn4RQng/zjcuDtAzLCHPn3se83GxgVotAgthxRfm80IN1hlnnLFF75o5PVgHtjc/5xTnMOGDoEaA4LjyOmobfeci/By/rJyCHtvCdrOvCXLsF/ar32cEET4vNIWNDyS8B69hW/mX85LXskw+L2wX5yXfDZyLsQi1HEs+g7yGbeE8plbsqquuckOS8Hte+zqvoEetITWTsR3u5IZ14jzhvOK9+Zd1YXsIiawrnzk+pzQtpTkrNZ3+ewfsJ5oisy58Ntg2v0+ZzgWJiy66yG0r3zciIsWpXPQPc8H62RYRiUFBh0IdV7VBAYdCM4Wi/OJriGZtjCNH4Z7CIuO2UTAC70FBm6CVHxRWCQCxhVFqsShkEfIowFIwZR0pLFPAyq0QSRM5Co+8nnVh+f5+ovhAkBdq0nj//GC9KODGFlbjxe8btosCM+sWv00cJwr3/v2Zl2OVVwGTpmfsg/zIzzrnhW2iZocCMevIvk50bxaFbbaJY8P6+cK4P6a8NifsA39MWQ7nij+msQHZI0TQ1I6gR4h+4IEHCnzsSwKfHWqX2Ff8y+9sO/uf7YkPZOAzwPnCPmBbOV5st8cy/GeFZYJtZZnMl9t+5dj513JMWBavJdzx+pzOtZw+n6wb65jb59Njm9gPHE/ei0Ae/x3A91R+z2XemzAfv72x+4bt5T1YV94zPsR68dsHtotjxCPROSciUlQKeiJSKlCw5z4XxkujMPnYY4+5K96loTAtyY3gQE+LjPVHeKDWj5odERGR0izvtiEiItsAtTA0laIpGjUt1JxQUyWyvdE0mfvUqJWhCSM1eiIiIqWdgp6IlAo0f6K5JZ1c0IyJ2j26h6dplMj2QqMX7s3jfkbunaNTEJrziYiIlHYKeiJSatBkk44g6ByF+/NoMsdDZHuhFo8HHXAwHh2daoiIiJQFukevmHB/EV0t05sXNRC+S/TcBnfNCTeT01SI2gxuGufqMWN10bNXbjfBx+Kmb65AU0tCr4F5dbYgUlrw+aFXSjpWoFMRzn91VCDbCx1u0IEHHWhwPvLdLiIiUhYo6BUDCqWDBw+277//3g3ySjjjXqNzzjnHDVRbkIBGj3gM2suN/3RXT+ijQwqWxQDIdGudV6GXgvLvv/9uTz/9tOvmmk4t+FdERERERJKDmm4WEaHqvffes3vvvdeN+8SYOIylwxXge+65x55//nnXsUR+sCx6daPb7gEDBrh7Qa644grXrfSdd95pTz31lKvpyyubU7v48ssv208//eSavSnLi4iIiIgkF9XoFQHBjJ7YOnTo4HoKvOWWW+zwww93wYyxwF544QX79ttv7ZdffnGD+ObVfJJBbBk7jHDWpUsXO/XUU92yGKj4v//9r3322Wf20UcfuQFnY8c8isXhvP/++928CxYssGuuucaeeOIJa9CgQTCHiIiIiIiEnWr0ioBA1qNHD3cvHc0qDz30UDfwKQOmcl9cp06d3OCozLNq1argVTmjBo7gyA3/xx9//OZlEdJuvvlmN55Y3759bf78+cErtkTIo/nowIED3YDTBx98cPCMiIiIiIgkEwW9IqAntt69e7sb9Js2berGAfMIaEyjQxYCHPfe5WXQoEGuBo978limxz15LIvxm4YPH+6ab8ZjXebMmeNqEemevn379u5+PhER2XYy09Js1dRpNuOH3rZu4UKLZGt4EBER2T4U9IqAGj2aaNIjJsGMkObxMzVydMoyY8YM1wtmbmgGOmvWLNdxy84777xV5y2Evb333tuFPHojjG1xy8/09vnkk0+69TjzzDOtRYsWReppkw5l6GSGZqO5PRYvXuxqLdUCWETEbPmkyTbqtddt1HP/td+ee87SVq9W2BMRke1CQa+QCDZ0t03IYZBnQl08whk1emlpaW5ewlxOqJFjPsYOq1GjRjB1S40aNXLLIITFBitCHvcCDh061DUX3W+//VyNYlGMHTvWvvrqK+vatWuuj9dee811HEPnMyIiyWzFlKk2qVs3mxZ9LBw2zCZ//rn9/tJLlrpkCX80grlERES2DQW9QiJoEc5AyGO8unjU6lWtWtX9m1fvl/55Ahr34iXCsqjpY14fGhl+gaEUvvzyS9cpDB24xDb7LCzGjiJ45vVgCIjRo0fnq2mqiEhYZUe/l+cNHWLTvvnG0pYsskj09/Rly+yPl162VVOnWlZ6ejCniIjItqGgV0iEN9+8ksCXKMQxjZq8/PDLig1x8VgWy/RNRJl38uTJrgMWagEZziGn2sCCokOYO+64wx555JFcH8xHU9OcwqmISDLI2rjRUmbMsLXTpv5Texf9Nzt1na1fssQ9LyIisi0p6BUSYYt74Ag41GbRnDIeQYxmlcxLM87cBk3neZbF/Xc53c9H80hCIPNRg5iSkmLDhg1zTSfPP/981/sn9wxOmTLF9d5JbR9j6k2fPt39Tg2ciIiUgOh3c0734lG7l1uLDhERkZKgoFcEhK1ddtnF5s2b50JVPMIfoatOnTq24447bq6JS4QQWK9ePRcMEw3FQCGBEEfzTd8clIBJhyi8P+PutWrVavPjsssus19//dV69uzpmnNeeOGFbl1ERKT4ZdOyIxroEkldvNgy16//p6ZPRERkG1DQKwKCHkMZMDC5r23z+JnwN3HiRGvTpo3VrFkzeCZnNIPkNfRkSW2gR8jjnrkJEya4sfoIl6hdu7YbPP2BBx6w++67b4sHNXx0BEOvn1dffbV7+NeJiEgxin5Hz+j/s80bPjyYsKWhDz1kM/v0cT1wioiIbCsKekVAE8rzzjvPqlWr5ppQMjyCRzPKH3/80f3csWNHV6sXi/BGGIxtztOuXTsXxujchFDnpaamWrdu3dy/p59+ugtw4H68I444wjp37rzV4/LLL3dDLBx00EF2ww032AUXXOBqDEVEpHitiX73z+7Vy5ZHv7sTyYh+dy+PfqevX7YsmCIiIlLyFPSKgOaWBx98sJ122mnuPrnXX3/dDaDev39/e+utt+yTTz6xs846y1q3bu2aW3oMyfDdd9/ZxRdfbC+//HIw1Wzfffe1U045xSZNmuSm0+yS5pfvvPOOPffcc67Gj2BHTR6oUSRk0hlK/IPx+OjBk/fld4ZtUIcpIiLFL23lStuwbOmm5pk5yEpLs+x8ds4lIiJSHBT0ioD75KpXr27XXnutq2mjCScB75VXXrFx48a5ZpV33nmnq0mL7YiF3jPpHOXnn39283mEMmrezj33XBcG33//fRfwBg8ebEcffbTdfvvt1rx5cwU2EZFSxN2fl0NHLCIiIttL+Uejgp+lkBo2bGjNmjVztWjci9e4cWM76qijrH379tayZcuEY+wR/HbddVcX4KjJ86h9a9q0qWvCSYhs0KCBqxEk/PFvooHZc0Jt3/777+/u06MzmJIwcOBAt8177rnn5ppGEZFksm7+fJs3aJCtnjEjmLK1BocdZg0OP9yq1q8fTBERESlZ5SKxN4mJFNBDDz1kjRo1cvcXEnZFRJLNohEjbNgjj9jsfv2CKVtreeON1rJLF6u3//7BFBERkZKlppsiIiIljB4301NSchyCQUREpLgp6ImIiBQS9+elrVptmWlpwZTEFv3+hy3+80/bsGJlMEVERKRkKeiJiIgUUuqiRTbmww9t8egxwZTE1kyfZlN69LAFv/8eTBERESlZCnoiIiKFNKPvT7Zy7FjLXJcSTMnZhlVrbOPatcFvIiIiJUtBT0REpJA2rlljWRs3muWjXzP6PlP/ZyIisq0o6ImIiBQS4+dF41vwm4iISOmhoCciIiIiIhIyCnoiIiIiIiIho6AnIiIiIiISMgp6IiIiIiIiIaOgJyIisg1EMjMta2O6G2RdRESkpCnoiYiIFIYbLiE7X0MrYP3iRbZq8iRbt2hRMEVERKTkKOiJiIgUEMMqpMyfb4tG/W5pq1cHU3OXsXKFTf7mG/v78y+DKSIiIiVHQU9ERKSAstLTbfjLr9riEcMtc926YGruCIdpK1ZY2tIlwRQREZGSo6AnIiJSQJGsLFsybrxtXL3a/ZxfboD1AswvIiJSWAp6IiIiBcRdeZlpadHglr/780RERLY1BT0REREREZGQUdATEREREREJGQU9ERERERGRkFHQExERERERCRkFPRERERERkZBR0BMREREREQkZBT0REREREZGQUdATERHZVrKyLHN9qqWvXRtMEBERKRkKeiIiIgUUiQa2SEY6P22akE+8ZvHIkTbu408skp0dTBURESl+CnoiIiIFkLZmjU346mtLW7jAIpmZwdT8Yf6VEyfZzN4/WMb69cFUERGR4qegJyIiUgAbli+3Uc89bxvmzytw0EMkM8My162zTAU9EREpQQp6IiIiBZC9caOtmz5NTS9FRKRUU9ATEREREREJGQU9ERERERGRkFHQExERERERCRkFPRERERERkZBR0BMREREREQkZBT0REREREZGQUdATEREREREJGQU9ERERERGRkFHQExERERERCRkFPRERkW0tErFIVlbwi4iISPFT0BMREdnGstLTbf2yZcFvIiIixU9BT0REpMAiwb+Fs2zsWPvp+ustdfFii2RnB1NFRESKj4KeiIhIfkQitiQa0H657373c1FQo7duwQJbPm6cmnCKiEiJUNATERHJh/SUFBfMFv46KJhSRNGAl75uXTQzFi00ioiIJKKgJyIikg+ZGzfaxpUrLTMa+EREREo7BT0REZH8oOZNtW8iIlJGKOiJiIiIiIiEjIKeiIiIiIhIyCjoiYiIiIiIhIyCnoiIiIiISMgo6ImIiIiIiISMgp6IiIiIiEjIKOiJiIiIiIiEjIKeiIiIiIhIyCjoiYiIiIiIhIyCnoiIiIiISMgo6ImIiGwH2VlZlrp0qWWlp5tFIsFUERGR4qGgJyIikg+R7GzLzswMfiu6jWtTbMKXX9naOXMsKyMjmCoiIlI8FPRERETyYcPy5bZq+vTgt6LLSttgS34bZhO//NLSVq0KpoqIiBQPBT0REZE8UOs25euvbdKnnwZTikl2tqUsXV6sNYUiIiJQ0BMREcnD+mXLbM2sWZa+bl0wpfhEsrJ0i56IiBQ7BT0REZE8ZGdkbOo0RUREpIwo/2hU8LMUwbx582zAgAH23Xff2cCBA93vVatWtTp16gRz5N/ixYtt6NCh1rNnT+vfv79Nnz7dqlSpYjvttJPtsMPW2Tw7O9tWrVplP//8s3v/H3/80UaNGmVLliyxypUrW61ataxcuXLB3MWLba1Zs6btueeeVrt27WCqiEi4pMyfb4tGjLAVEyYEU4pHueh3et2Wh1jTE0+0HaPfpSIiIsVFQa8YjBkzxr766ivr27evTZo0yWbPnm0TJ060uXPnuhC0yy67WPny5YO5c8frCXjff/+9jRs3zgXG8ePH27Rp01xwrF+/vlWqVCmY2ywrK8u9zwcffGBffvmlC4WLFi1y//K6+dHCCWGvSZMmJRL2FPREJBko6ImISFmjpptFEIlEbN26dS5kEcwIPBdddJFdccUV1rx5c/vpp5/s5ZdfthUrVrhat7ysX7/eunXrZt98842b/9xzz7XrrrvOWrVq5QLVq6++6kJkZsxN+ytXrnS1frwPQfD888+3W2+91a0H69OrVy/75JNP3DqIiIiIiEhyUNArAsIYtW59+vSxww47zO69914XzDp16mT333+/nX322fbtt9/a6NGjbcOGDcGrcjZlyhTr16+f7bbbbnb33Xdbly5d7MILL7QHHnjAbrjhBhs0aJBrkrl27drgFeZq+niPhg0b2nvvvefmO/PMM916/Pvf/3brRc3e2LFjg1eIiIiIiEjYKegVATVr1MClpKTYaaedZvvss0/wjNmuu+5qF1xwgWsu2b17d3cPXV64t45ml8ccc4y1bt06mGpWo0YNu/rqq10NHbWENOf0li9f7ppnnnTSSa5ZZ+w9fC1atLC99trL1qxZYzNmzAimioiIiIhI2CnoFQH3x3FfHvfg1atXzypUqBA8Y+6ePO5ZI2jRSQphKy+DBw9299M1aNDAKlasGEyNHqRoeKtevboLbr///rvrrMU75JBD7JlnnnE1efEIojxYFmFRRERERESSg4JeERD0li1bZrvvvnvCIEWnKfvtt5+bZ+PGje6evpzQDJT76Ah5hMZ41AxSY8g9gdzL55dFk802bdq4zlA8f+8gnbrQFLRp06Z2/PHHB8/mD7WU1ALSOUxuD2oU09XluIiIiIhIqaKgV0iEKQIONWYMe7DjjjsGz/yDWr2dd97ZzZuRkZFr0PPLonkmQykkQgCkdo9l+c5dqEVkfmrtWH7v3r1dk1Gakj799NMuhN5zzz2u1rEghgwZYm+++aY999xzuT5GjBjhahjT0tKCV4qIiIiIyPamoFdIhKrYsJVo6AKm+SaYzJtb0PPPsaxEY+WBZbFM5s1pWYROahGp4aNGkc5aGP4hP53BxNp3333tnHPOsUsuuSTXx/777+/eM7apqYiIiIiIbF8KeoVE4PL35FGbRTPOeIQx38yS2r1EYdDzz9PEk5q9RAhrBEaCYKJlMY2Advnll7shFugFlBo9hmugGWdB8LrjjjvOTjnllFwfvtlqfscJFBERERGRkqegV0iEKmqxGLuOe/ASNV2kieWCBQtcs05fG5cT3wRz9erV7v66RBYuXOiWQU0dYY8ASTDkfjofNKldozaPsfc6duxo7dq1cz1+EvR8DaSIiIiIiISbgl4RUItFT5gMb8DYdrHNKfmZ8Dd58mRr1qyZC3G5BT2CG/MxADqdssQuCwQ5xtnjXjvu42NZBEmmcV8eITAe4dF37rJkyRIFPRERERGRJKGgVwQEqdNPP92FM8a2o5mmR+cq1ObNnj3bdYzCUAvx4sPcCSec4ALdnDlzXC2dR1NOghy9YB555JGup00Q9OgM5aGHHnLDPCQKh76GkPdX80oRkdLFXRRcscLSVq6wrOh3uoiISHFR0CsCgtPZZ5/tBipnDLzx48e7++h4zJw507799lt3/9q5557rmlR6/GFPTU11tWwEMa9t27auVu+vv/6yUaNGueBIrSDzffLJJ24emmI2btzY/VytWjU3MDu1ex9//LEbbJ1Qx/uz/Llz57px96htZAiG3GoURUQksUh2tmWlp5dIEItkZdns3j/YlB49LXXRP2OkioiIFFX5R6OCn6WACE516tRxTS179OhhEydOdMGM5pTvv/++de/e3a688kq78MIL3b18HrV1H3zwgV166aUujJ111lluOrVuPMfYd8OHD3fLolbwww8/tFdeecXdc3fRRRe5YOkRIHld165drVu3bi7gUbvYv39/e/bZZ91g7QTI//u//3ODsRe3gQMHuqak3BeYqNZSRKSso8Zt6ve9bNp3vSxj7ZpgajHKzrI1y1fYbscdZ7WaNAkmioiIFI2CXhER9g488EBr3ry5C23fffed/frrry703HLLLXbddddtvqfOI8CNHj3ahSTu8aNWEMyz9957u2k0B/3+++9dk0zQi2bnzp1dDV7s8AuEN9776KOPdq9hmbyGZp4MfXDbbbfZ1VdfbXXr1i2RGj0FPREJu6m9frCJn31mqydPZKycYGrxKl+rtrVof6bVbto0mCIiIlI05SLxN3ZJodAEk4HD6eGSXVqrVi3XEQoBKx733DEvwZDnCXexqNWjuSY1hcxbvXp1F/CYN9EYe3SyQjNPav9YD+4PpGdOavuo/WNdSiLkgfsDGzVq5JqU0uxURCRsRr3+ho15/XVbO2VyMKX4VdlzLzvzvfes6QnHB1NERESKRkFPikRBT0TCbsTLr9qYN163ddOnBVOKn4KeiIgUN3XGIiIiIiIiEjIKeiIiIiIiIiGjoCciIiIiIhIyCnoiIiIiIiIho6AnIiIiIiISMgp6IiIiIiIiIZMUQW/ChAk2bNgwW7t2bTBFREREREQkvJIi6A0aNMhuvfVWu/DCC+3++++3X3/91YU+BhoXEREREREJm6QIeitWrLCxY8fagAED7JNPPrGHH37YrrvuOnviiSfsl19+saVLl1pWVlYwt4iIiIiISNlW/tGo4OfQysjIsCpVqli1atVs2bJlriknj+nTp7vH33//7f5dv369m69q1apWrly54NWSm4EDB1rNmjVtzz33tNq1awdTRUTCY/6Ikbb491GWvnJlMKX4VaxT11q0b2+1mzUNpoiIiBRNUgS9Bg0a2EEHHeTCSJMmTWz33Xe3pk2bugA4fvx4++2331zYmz17ts2bN8/mzp1rGzZssEqVKlnlypVthx3UZ01OFPREJOwU9EREpCxKiqBXsWJFq1OnjrVo0cKOO+44a9u2rR166KEu7FF7l56ebosXL3a1fEOHDnX38M2fP9/WrFnj7uWrUaOGq+lT4Nuagp6IhJ2CnoiIlEVJmVwIbPXr17cjjzzSOnXqZCeeeKLVrVvXPUcHLYS7fv362T333GPXXHONff/997ayBP/Ai4hIcotkZVnWxo2WrfvFRUSkmCRF0CO8bYz+AU1JSXE1d3/99Ze9++67dtFFF9npp59ur7/+ui1YsMDV2u2000622267WevWrV0NFR21MO8ff/wRLE1ERJJKJBL8UHKyVq+xlZMn24Zly4IpIiIiRZMUQY9w991339lNN91kLVu2tJNOOslosUpPnNyLh7322stuv/12+/HHH23cuHHu36+//trd08f9e4sWLXLziYhI8sjOyLCMdSmWlZYWTCkZGatX2m9PPWWzfv5lmwRLEREJv6QIet98843deeedLuwtX77c1e7REQvh7t5773WhrlevXnbXXXe5IEjvnDyOOeYY9y/zZmZmRv/26o+viEgyGfXGmzb1668tbXEJX+yL/n3JWL7MMlNSggkiIiJFkxRBj05VqNUj4O2xxx6u5u7LL7+0rl27ulq+448/3k3nPr0dd9xx89AKNOV86qmn7MMPP3T38WnIBRGR5LJ09GhbO2e2RTIzgyklh/v0LJKti4oiIlIskiLo0dvmtddea88//7y9+OKLduONN9pZZ51lRx111OaeN3MKcSeffLJ16NDBDckgIiLJJTM11bLT04PfREREyo6kCHr0rtmlSxe78sor7cwzz3TBL7+DotN0k+EVGKJBRERERESkLEiKoLdixQrX0+bo0aODKVujqcykSZPs/ffftz59+gRTRUREREREyp7QBj3GwiPg0fkKnbHccccd9t5777nfEz3mzZtnPXr0cDV///3vf4OliIiIiIiIlD2hDXojR450PWkS3iZOnGhpaWk2ffp093uix6effmqDBg1yPWzSeYuIiIiIiEhZVS4S0u69zj33XPv555/dIOkFwf14dMDSs2fPYIrk5qGHHrJGjRpZu3btrFmzZsFUEZFw6HF+R5v1Qy+LbNwYTClZp7zxhh3cubOV2yEp7qwQEZESpL8kcZo3b26do39kRUREREREyqrQ1uiNGDHCli5d6gY6//rrr+2HH36www8/3G6++eZgji3RAyc9cVI7RdjjZ8mbavREJMxUoyciImVVaIPehg0bXMgDQa937952xBFHuAHSc1K+fHmrVKmSVahQIZgieVHQE5EwU9ATEZGyKrR/SapUqeLut+PRtm1bu/fee919e35aoge1eAp5IiIiIiJS1oUy6FGTR++Z2dnZbny8xo0bW6tWrVyNE9PzeviaQBERERERkbIodE03N27c6IZK4N9DDjnE9t57b5s6daobMD2/dtppJ7v44ouD3yQ3aropImGmppsiIlJWhS7orVq1yvbYYw9bvXq13XPPPXb55ZfbZ599Zs8880wwR9723XdfN/ae5E1BT0TCTEFPRETKqtD9Jdkh+sexTp06VrduXatWrZq754577+rVq5fvR+3atYOliYiIiIiIlD2hq9Gjt80XX3zR/Xvccce55ptjxoyxX3/9NZgjb/Xr17fbbrst+E1yoxo9EQmzbV2jd9Irr1jLG2+0HSpWDKaIiIgUTiiHV+D+PDBcAo+srCz3yC/G1GOYBcmbgp6IhNm2Dnp7dexorW6/3RoffXQwRUREpHBCeRPAjjvu6B402yS08a+flp+HQp6IiCwdM9bSli0zK8CFwqKa07evzfzuO9uwfHkwRUREpHBCGfTS09NdrV5hHwyxICIiSSoSscwNG2zks8/aivHjLLINg156SoqlLlliG9esCaaIiIgUTuiabq5fv971tsm/hd20XXfd1Z566qngN8mNmm6KSNhEsrNt/dKl9mWbNrZqyhQX/Lal/S67zI588EGrs/fewRQREZGCC/XwCoXdNA2vkH8KeiISNgS9lHnz7JtTTrFV06cHU7cdBT0RESkOoWu6Secr++23nx1wwAF24IEHFuqx1157BUsTEREREREpe0JXo8c9dl999ZX7t7Cbxjh6F1xwQfCb5EY1eiISNqrRExGRMAjl8Aqy7SjoiUjYKOiJiEgYhLLXTRERERERkWQWuqBHBWVaWpp7ZGZmut/510/Lz4NmnyIiIiIiImVV6IJeSkqKtWnTxlq3bm2vvvqqzZgxw1577TVr1apVvh/nn39+sDQREREREZGyJ3RBLysry6ZMmeKGR1iyZImroVu6dKn7Pb8PwqGIiIiIiEhZFbqgV7FiRVej17ZtW2vRooVVr17dDZfA7/l9HH300cHSREREREREyp7Q9bqZkZFhQ4YMcf/uvvvutuuuu9rChQtt5syZwRx5Ixwee+yxwW+SG/W6KSJho143RUQkDDS8ghSJgp6IhI2CnoiIhEHSDa/ge+Fcu3atLV++3FauXGkbNmyw7OgfdhERERERkTBImqBHwKNjlvnz59uYMWPsp59+su7du1uvXr1s2LBhNnXqVFu1apWbT0REREREpCxLmqBHyBs1apR16dLFDjvsMLvgggusc+fOduWVV7oOWM477zz78MMPbc2aNcErREREREREyqakCHp0zPLtt9+6UNe3b99g6pYYkuHpp5+2u+++24VCERERERGRsiopgh5NNfv06WPz5s2zChUq2HHHHWevvPKKffXVV/bBBx/YVVddZY0bN7YVK1bYyJEjrVu3bsErRUREtq15w0fY5B49LX3dumCKiIhIwSVF0Bs7dqz99ttvVrNmTWvfvr29+OKLduGFF7qeIvn9vvvus5tvvtn2339/mzt3rn333XfBK0VEJKlEIi5gjXr9DVu/cmUwcdtKnTfPFg4ebEtHjw6miIiIFFxSBD06WaGHzYYNG9r5559vrVu3tl122cUFvzp16tjee+/tQt9RRx3leuCk5k9ERJJPZlqaLRszxmb06GHpa9cGU7et7PSNtmHZUktdtCiYIiIiUnBJEfTq1atnDRo0sB133NHq1q0bTN0Sg6TXqlXLqlatak2bNg2miohIMslKT7c1s2bZhkULLZKZGUzd9ugBOns7vr+IiJR9SRH0DjnkEGvTpo2lpqZav379bOHChZaVleWe44/p6tWr7Y8//rBx48bZHnvsYeeee657TkREkkz0bwJhj39FRETKstAFPQZD5368wYMHb34wKHr9+vXdIOkff/yxffrpp9a/f38bNGiQ/fLLL9azZ0/XKcvw4cNdpyw04RQRERERESmrykVCNkI4tXPU4PFvdnZ2MNXcz+np6e6BHXbYwTXlZOgFavfYDeXLl7eDDjrIHn74YTvnnHPcfJK7hx56yBo1auTucWzWrFkwVUSkbNoY/dsx5ZtvbMCtt7r79baX+oceaofddZfte8klwRQREZGCCWXTzZSUFPdYt27d5sf69etdbR8Bjwc2btzoAmC5cuXcNMIewY+HiIiIiIhIWRW6oEetXKtWreywww4r1OOAAw7IscMWERERERGRsiB0TTepoZs9e/bmzlYKqlKlSi7o0QtnQUyYMMF69eplw4YNc81DW7Zsaeedd54dfvjhwRz5N2PGDOvbt6+7f5AmqPvuu69ddNFFdsQRR7j1i8chpAaTjmZ+/PFHmz59ulWsWNE1Qz3zzDPdPYdVqlQJ5i5earopImGippsiIhIWoQt6RUWzTZp5MtRCfjHAOh28LF261I3PR8hasGCB+/eKK66wjh07uvsB84Nw9/nnn9vUqVNt5513dmP9zZkzx43vx7IuuOCCLWocOXwEw+eff951JkOnMwwPQdicOXOmC76EvS5duhRom/JLQU9EwkRBT0REwiJpgh5BiZq+P//809WSJdps5uFePWrAjjnmmGBqzlgGA7F37tzZDcp+2mmn2dFHH20VKlSwsWPH2jfRwgKh8ZNPPnEhiOm5WbFihQtO1A4ed9xxdvLJJ7uaxWnTptmHH37oeg995ZVX3IDvPjguWbLEevToYc8++6y1bdvWzjjjDBf0CKyTJ0+27t272/z58+3mm2+2q6++2r2mOCnoiUiYKOiJiEhYlH80Kvg5tOh0ZcSIEfb222/b999/b0OGDLGRI0faqFGjtngwLMPcuXPdfXr7779/8Oqc0TyUYRoIYWeffbZ16tTJNZfcbbfdXOihkxeGbWB5e+65p1WuXDl4ZWKsF6GQZp/XX3+9u2eQEMXYfrVr17aPPvrILXuvvfZyNX2YNGmSe/9ly5bZSy+95IImQ0Tw2HvvvV3gY1upbaQpKfcwFqeBAwe6dWH7WEcRkbIsKxruVkycaLN+/HG7DlherWFDaxT9Pt/5wAODKSIiIgWTFAOmE978WHnU6M2aNcvVktG0cd68eZt/9wOp5/f+PHrxZLnU7HEvHqHMq1Onjp1wwglWo0YNFy6p8csL99hxr93BBx/sgpPH/XXU1tGUk2BFs1CPWj62gWB6YLRAQHNRj9cRCqnhW7RokaVtx6vTIiIiIiKy7SRF0KMZJTV61apVcyHqpJNOcrVPO+20k2uiSRPJffbZx/3OPW6777578MrcEQq5L27XXXd1wS62towmoIS8Fi1auNpChnjIDWFx9OjRLmRyn19sM09qBglt1NBRg0dzUY/3Pf74411tXSLcq0etHgGQ5eQXryF0rlmzJteHH6JCRERERERKj6QIetR40RMloeuFF16wbt26uRo4mkE+9thjrrfM//znP67JJM0QCXt5IZhRo0dNXZMmTRLWAhKueE/uCSRwJbov0CM0Mh/vTXiLR0ijdo77CHn4ZdG888UXX3QdtcTieZZHeKS2khpCgm5+UQP4+++/29ChQ3N9sG+5D1FhT0RERESk9EiKoEdt2tq1a10YI/AQwE499VTXBJJaKWrP2rRp45pa0rSTTlTyQpDy4Y1wGNtk0qOGj9BGSKOGLLcwxPMsi3XMqYdOaiFZVwJmbsNH8D6Ery+++ML1Btq8eXO7/fbbC1SjRy0kr3333XdzfRAkuf+Pmj0RERERESkdkiLo0eyR2izCCPe00aySZpAEKppBpqamugDFg5os7qkrbr4GLi8FCWOJEPIGDx5sl112mT3yyCOuI5eHH344X53LxDrrrLNcD590AJPbo3379u4ewJIap09ERERERAouKYIePVBSq0UTxmeeecaNUUc4YfBxxqzr3bu3C3d0hkIYjL0HLicEMl7Pv9QYUssWj9BFjSEhjxCZW4jz99AROqkpTIRaSWryqCkkrMaiRpDtuvLKK92YeazTgw8+aE8++aQdeuih7v0LghDMPYaMvZfbg/mKuydPEZFklxn9W7B+2TKLqFm8iIgUUlIEPe69Y9gBQhdDDVDjRQ+ZBBXuQ3vqqafsueees7/++stNY4iEvBDKCE/MT2+dNJWMR/iiZ09qEwmF8eEsFmGJJqCMpcd6xiMsMg4ggZBwFRsauRePQdtvuOEGN3g6wzwQ8i688EJ3j6Bq20RE8kaoSk9JseUTJmz3gJUyf75Nj36vT+/dJ5giIiJSMEkR9Ki9Y5w7mhlSy8Yg41WrVrVLL73Uhau///7bDVJOWCMYXZLPAWoJZ3SGwoDkdMoS2zyTn1kevWQSNPMasoHgxvAIhDzueYu9n49lERpZFk0x69atuznoUXNHeGWMQLaJ2rzLL7/c9SZK752qbRMRyZ+0lSttzoCB230MPWSkptryiZNs9q+DgykiIiIFkxRBjxotetmkQ5JbbrnFjjrqKFcb17FjR/f7VVdd5cIdg5R37tzZ1f7lB8vgXjaabcYPe8DQBAzrwD2BzBM/mDjhzT88hnlgXWmCSS2hR1NOOolZvHix6zAmdrw+agzpPIZ7C++44w43zALDPRS0qaaISLJbH/2+njt0qK2KfgeXhiaTmdHv/pSlS4PfRERECqb8o1HBz6FWuXJlV7NHyONfmkDS7JLattatW7twd9ppp7nnE/WgmQi1avXq1XNj9FGrx+sIajSlpNfKL7/80s1z7733uvDla9f8/XQDBgxw990xzAMYx2/8+PGu+SUBkHvkuGdv3Lhx9t5777kawhtvvNGN+cd7Uev322+/2VtvvWUNGzZ0gZLaSnoTjX9QU8i6xjb5LA4M4E6tKL2ZxodZEZGyZN3CRTatTx9bM3lSMGX7Kh/9e1Krxd62b4dzgikiIiL5lzRBzyPoEKIIUDwISwQUmjkSrAoShJiXkMPyqHGbPHmyC1UEs19++cWFv6uvvtoN3RA7ZALNLRnL77777nPhjWaloHkn9/FRO0hzUpY1ZcoU69+/v40ZM8b1pEkY9YGKjmMImV9//bVbB8LjkCFDEj5YFwaKz+0+wcJQ0BORsEhdutTmDBqkoCciIqGQNEGPIEQTSO5/o1MTghljwM2aNWuL3izjOzrJD+6tYzDzZcuWuUHECVwEn1tvvdU1D42vIfSdtDAfr23btm3wjLl7BPfdd18XAFkWAY9B1O+88067+OKLXS2kxzwsgyaiBDjeP6cH20WzzuK+Z09BT0TCQkFPRETCpFw0AOVvgLcyjtovwt1///tf10NlPMaZ4x49auDy6jhF/vHQQw+5ewbbtWtnzZo1C6aKiJQ9S8eNt18fecTm9OwRTNm+Ku5Ux3Y78yw79+MPgykiIiL5lxSdsVCD9u2337pOV/r27RtM3RJNJJ9++mm7++67LS0tLZgqIiIiIiJS9iRF0KNpY58+fVxzSZo4MvTACy+8YJ999pm9++67dsUVV7jOUmjWSecmPXqUjqu5IiIiIiIihZE0QY8AR2cr//rXv9zg6AynwM8dOnSwe+65x2666Sbbb7/9bO7cuQmbdoqIiIiIiJQVSRH0GMuO2jpq7egchSEUGjRo4Do2YfBx7s8744wz3HQ6OJkzZ07wShERERERkbInKYIeYY7hE+h5kh4sE6G2j14jGQevSZMmwVQREREREZGyJymCHoOin3jiiW7cPMa3W7RokRtOAXQ6ymDif/31l02YMMGaN29u55yjrqxFRERERKTsCl3Qy8zMtD/++MMNJD58+HD3IOA1btzYUlJSrGvXrvbFF1/Yr7/+asOGDXODiffq1cs+/PBD93vTpk3t+OOPD5YmIiIiIiJS9oRuHL3Vq1fbIYcc4v6N3TRq8BgwnQfofbNy5crud55jXgYTP+igg+zhhx9WrV4+aRw9EQkLjaMnIiJhEroaPQLb2rVrt3pQq8d4euXKlXMP5tuwYcPmJpxMy87OdsGP+URERERERMqq0AW9ChUq2KGHHmqtW7cu1OOAAw6wOnXqBEsTEREREREpe0LXdJMaOgZG980xC4qeOXfeeWfXC6fkTU03RSQsSlvTzQrVa1jDE060cz77xCrVrOlanoiIiORX6IKebFsKeiISBhvXrLGZ/frZkEf+Y2snTQimbl/lylewKg0bWotLLrXjH3rQKlWvFjwjIiKSt6QYXiEetX2rVq2yhQsXuoHUuVdPeVdEJHktnzLFJvfoaalzZgVTtr9IVqZtWLLYpn//nWWlbwymioiI5E/S1OixmfTEyXh5PBg7j4BHT5s1a9a0Pffc01q1auX+VfOY/FONnoiEwaTuPWzAvffZhpnTgymlxA47WKV69ey6CROsSvRfERGR/EqaoLdgwQLr37+/ffXVV/bzzz+78fY8hlrYd999rUOHDnbuuee64RkkfxT0RCQMJnz1tf1y592WvnBeMKWUUNATEZFCSoqmm9TcDRo0yJ5++mnr16+f63ClefPmtt9++1mLFi2sbt26NnXqVHv77bftnXfecTV/IiIiIiIiZVVSBL1p06bZwIEDbcaMGbbTTjvZ8ccfb4888oi9/vrr9txzz9nFF1/smmwy3t5vv/1mQ4YMCV4pIiIiIiJS9iRF0Pv7779txIgRruaOUPfDDz9Yp06drE2bNta+fXt7+eWX7bHHHrODDz7YNfH89ttvg1eKiIiIiIiUPUkR9Ohdc86cObb77rvblVde6e7Ji0XnK0cffbS7z4xavfHjxwfPiIiIiIiIlD1JEfQYToEHPWxWq5Z4HKJKlSq5e/fomyYjIyOYKiIiIiIiUvYkRdDbeeedrWHDhq5mr1evXi70xSLcjRs3zkaOHOmC4B577BE8IyIiIiIiUvYkRdDbZ599rGXLlrZkyRL77LPP7JlnnnFDLIwePdp1vtK1a1d78803XdCrX7++nXzyycErRUREREREyp6kCXonnHCC63GT++9eeeUVe+mll+zFF190//Lo06ePG4bhoIMOslNOOSV4pYiIiIiISNmTFEGvXr16duKJJ9pFF11ke++9t61atcoFu08//dS6detmkyZNslq1armavI4dO6rppoiIiIiIlGlJEfRw4IEH2t1332233XabG0evdevWrjnnoYceakcddZQbduHee++1Cy64wPXCKSIiIiIiUlaVi9ATScj5XjfB0AoEueXLl9u6detcT5s06axataoCXiE89NBD1qhRIzc0RbNmzYKpIiJly4SvvrZf7rzb0hfOC6aUEtG/WZXq1bPrJkywKtF/RURE8ispavTohIVB07k/j/H0GGZhl112cU00Gzdu7HraVMgTEREREZGwSIqg17t3b7viiivs8ssvt//973/BVBERkdIvOzPL0lavtuy4oYFERERykxRB74ADDnAPavOo1RMREfGWTZhg84cOtYzVK4MppUh2tmWtXWt9rrnWVk2b5sZ9FRERyY+kCHr777+/derUyU477TQX9vr27euGUuAPZk4PEREJv0g0SM0fPMRm9+5tkbQNwdTSJZKZYYtHDLe10b9fWWlpwVQREZHcJUVnLP369bOvv/7a3ac3ZcoUa9Wqle23335WqVKlYI4tcf/efffdF/wmuVFnLCJSlmVlZNhv//mPjXz6aVd7Vpqd3aOHNWvb1ipWrx5MERERyVlSBL3HHnvMPXzPm3nZd999beLEicFvkhsFPREpy7LS0+23Rx/dFPRKOQU9EREpiKRouslg6Lvttlu+Hw0aNAheKSIiIiIiUvYkRY3eoEGD3CM7n81y6tWrZ7feemvwm+RGNXoiUpapRk9ERMIqKYKelBwFPREpyxT0REQkrJKi6aaIiIiIiEgyCXXQW758uf3666/2wQcf2DvvvGPffvutTdM4RCIiIiIiEnKhDXpffvmlXXPNNXbTTTfZ448/bs8884wbMuHyyy+366+/3pYsWZLve/ZERERERETKktAFPYZQmDBhgr3//vv2yy+/uGESZs2aZbNnz7apU6fa77//7mr2Hn74YVu8eHHwKhERERERkfAIXdBLT093QW7MmDGWmprqBka/+OKLXc3eOeec43rUXLFihX3zzTeuGWdaWlrwShERERERkXAIXdDLyMiwH3/80datW+fGxOvYsaPdcccddtddd9ltt93mfucevVWrVtmMGTNs/fr1wStFRERERETCIXRBj/vuCHDU7B1++OF2xhln2GGHHWbNmze3Y4891t2jV65cOTcvnbVs3LjR/SwiIiIiIhIWoQt61NYR3viXcFenTp3gGbMKFSpYjRo1Ngc9QqF64BQRkbIgOytLf7NERCTfQhf0YvlAF698+fLBTyIikswyUtdb5oayca/2ugULLH3dOoU9ERHJl1AHPRERkZwQmMZ+/LFN7dMnmFK6Dbr3XpvVt69lRMOeiIhIXkId9MaOHWv9+vWzPtE/4v4xePBgNwQDRo0aZX2jfzRjn/fziIhIuK2ePt0WDxliqbNmBlNKt0h6hq2cONFSNTSQiIjkQ7lIyNqA0JvmHnvsYatXr7aaNWu6e/QqV64cPGvu/r2ZMzf9Ud9pp53c85UqVXK/e9zb98MPPwS/SW4eeugha9SokbVr186aNWsWTBURKf2WjhljQ/79b1dLVlYceuut1vLGG63OPvsEU0RERBILdY3emjVr3GDpkyZN2vzwIQ9+iIXY5+PnERGRcIqU1Q65dI+eiIjkQ+hq9BgknTHz+Lewdt11V3v22WeD3yQ3qtETkbJqyV9/2ZAHHrDZP/0UTCn9XI1e585WZ999gykiIiKJhS7ocf/dxIkTLTMzM5hScDT13Fd/RPNFQU9EyioFPRERCbPQBT3ZthT0RKSsUtATEZEw0/AKIiIiIiIiIaOgJyIiIiIiEjIKeiIiIiIiIiGjoCciIiIiIhIyCnoiIiIiIiIho6AnIiIiIiISMgp6IiKSlCJZWRbJzg5+KxsyUlMtKz09+E1ERCRnCnoiIpJ0Nq5ebfOHDrWU+fODKWXDsrFjbfGff9r65cuDKSIiIokp6IVUVlaWZZexK9UiItvK8gkTbNIXX9rKKVOCKWXD4j/+sBm9+9iKyZODKSIiIokp6BWT9evX27x582xCtPAwbtw4mzVrlqWkpATPFkxaWpotXLjQJk6caH///bdNnz7d1qxZY5FIJJgjd6mpqTYlWnhZunRpMEVERGItGTPG0lYsNyuDF8RWz59vaxYsDH4TERFJTEGvGGzYsMGGDx9uTzzxhHXs2NHOOeccu/fee+2XX35xoSu/AQ2EvNGjR9tLL71kF198sZ111ll28803W+/evW3lypX5qqX7448/7O6777ZevXoFU0REJJa7N68A380iIiJljYJeMXj//fddGCPsnXDCCS7ozZ071zp37mwvvPCCC4L51a1bN7vjjjvsu+++s0MPPdQuv/xy9/prrrnGnnzySVu0aFEwZ2I02fzggw9cjZ6IiIiIiCQnBb0ioKZuzpw59sknn9jee+9tTz31lD322GP2wAMP2Isvvmht2rSxt956y6ZNm2bp+eglbcGCBda9e3erUaOGPfzww/bss8/anXfeaW+++aZdeuml9uWXX7qmnDQTjUWt4ciRI+2jjz6yDh06uNq/1atXB8+KiIiIiEiyUdArgszMTNc8knvz2rVrZ8ccc4ztvPPOVrduXTv44IPtsssusxUrVtj333+fr+BFU09C4RFHHGGnnnqq1a9f3+rUqWN77bWXdenSxTIyMqx///7u/r1Y1B4+/fTT9u6777r7+giCBWkuKiIiIiIi4aKgVwQEvR9++MGqV69ue+65p9WqVSt4xqxatWrWokULa9iwofXt29d1ppKXgQMHuqaXLKtevXrBVLOKFSvaPvvsY02aNLFhw4ZtFfR22WUXu+qqq1yTT2oBjz32WFcrKCIiIiIiyUlBrwgIZdSg7bbbbla7dm3bYYd/dme5cuVc2COgTZ48eavmlvGogaM2b6eddnK1gvHLIuzRPJTaw/jQSK3f2Wefbeedd5577LHHHrbjjjsGzxbO2rVrbfbs2W6dcnusWrUqX81SRURERERk21HQKySCGU0puT+uQYMGVrVq1eCZf1SoUMGaNm3qQh5hKLfmlNQOMh/NPmvWrBlM/Qdhjxo95tu4cWOJj5E3Y8YMGzBggPXp0yfXB0M/MIwE6yUiIiIiIqWDgl4hEdoIN/xLyCtfvnzwzD+olaNZJyEtrwHM/bKqVKniau8SoYaQ99kWg6ETJhnqIa8H681Dg7OLiIiIiJQeCnqFRHjzzSsJOTnV1uW3povlIbdlEfByeq64HXnkkXbTTTfZfffdl+vjqKOOcvcIVqpUKXiliIiIiIhsbwp6heTvmyPscc8czTjjEcwY5Bx+3pzwPLV1NIOkpiwR7ocjCNIkNLdliYhIzrhglh20oiiLGOzdPcro+ouIyLahtFAEBC56x6SDlHXr1gVT/8F9eQxcTm+c1Hj5WrtECHl0xLJs2TIX6OLxB33q1KmukxWadyroiYgUHN+l6atX27Jx4y09JSWYWrZsWLzY1s6YYWnBhUQREZFElBaKgHB2yimn2Pz5813NXex9avxM+Js0aZKdcMIJCTtYicc4fLxmcfSPOLWBHgUT7pmjh8+WLVu6ppIiIlJwWWlpNvylV2xOv362MR/jm5ZGGxYvssnffGPjv/ommCIiIrI1Bb0ioEavQ4cOVrlyZRs5cqQbuNxjoHQGQKdJJ0MeUFsXi/AWfz8eg6RTQzh27FhXE+jRG2fv3r3dkAennXaaG85BREQKLjsryxaNGRsNeassEnNBrSyJZGbaugULbO2c2cEUERGRrSnoFQHNJ1u1amUnnniiG4rgvffec/8OGTLEPvjgA/vss8+sbdu2rmMTesz0NmzYYP369bObb77Z3n///WCq2YEHHuhq/6gFfPvtt+2nn36yESNG2CeffGIvvPCCtW7d2o4++uitQqOIiOQPF9cy1q+3SHbZvr+NewyzNIapiIjkQkGvCLjnjoHSr776ajv88MPdwOjvvPOOvf766y6gHXDAAXb77be7ppaxwy9w7x5h7quvvrLffvstmGpWo0YN69ixo7Vp08YWLlzoguMrr7ziQmHz5s2tS5cutueee+Y4/IKIiIiIiAjKPxoV/CyFxEDmzZo1c+PpMZwCY+dR+0ZoozaPJp6xXGcA0bDH/EcccYS7785r2LCh7b777q4DF5p90vkKNX0XX3yxHXvssQkHZo9HL6AM4s57s24laeDAge7+QwIooVdEpDSjFmzCV1/bhnlzLZK5dW/JZcUOlStb/UMOsT3anRZMERER2VK5aOhQ/8xSaA899JA1atTI2rVr58KuiEhptjElxb7qcL6t+G2oZW1YH0wte8rXqm37X3WVnfrSi8EUERGRLanppoiIiIiISMgo6ImIiIiIiISMgp6IiIiIiEjIKOiJiIiIiIiEjIKeiIgkD/ofy8rkh02/i4iIhJSCnoiIJIUNK1famK4fWsrUKZZdxgcbz96w3pb++adN7vltMEVERGRLCnoiIpIUNqxYYeM+6GppixdZJCsrmFo2RaJBdcXfY21ajx5ubEAREZF4CnoiIpIUsjZutDXTplkkOzuYUrZlrFlj62bNVNATEZGEFPRERCRphCXkbSGM2yQiIkWmoCciIiIiIhIyCnoiIiIiIiIho6AnIiIiIiISMgp6IiIiIiIiIaOgJyIiIiIiEjIKeiIiIiIiIiGjoCciIqG3dv58m/p9L7MyPlB6vPUrVtisAQPNIpFgioiIyCYKeiIiEmoMKL7s77/t7/fft0hWZjA1HNYtWGDjPvjAUpcuDecYgSIiUmgKeiIiEmoZqam2bu5cS505w8qFrOYrIyXFlv/xu62aMsWyM8MVYkVEpGgU9EREJNyysy07ZE02Y0Wi4TVj/Xo13xQRkS0o6ImIiIiIiISMgp6IiIiIiEjIKOiJiIiIiIiEjIKeiIiIiIhIyCjoiYhIqLkuStRRiYiIJBkFPRERCS03ht748TabQcVDKnPDBpszeLBtXLNGY+mJiMhmCnoiIhJaG5Yts7kDBtisvj8GU8InY12qTenWzRb/+adlMsyCiIhIlIKeiIiEVuqiRbZ25kzL3rAhmBI+2ZkZti66jfOGDLH0deuCqSIikuwU9EREJLRoypgszRnT16WGemB4EREpGAU9ERERERGRkFHQExERERERCRkFPRERERERkZBR0BMREREREQkZBT0REQklxkhfvDLFFixfE0wJsexsWzhihC0fP149b4qIiKOgJyIiobRhY7rNXLjc5i5eGUwJr0g01S4f97dN/u57Wzt/QTBVRESSmYKeiIiE0vq0dFuxJtXWpqYFU8ItkpZm84ePsNRly4IpIiKSzBT0REQklCI8+E8SyUrPSJpxA0VEJHcKeiIiIiIiIiGjoCciIiIiIhIyCnoiIiKhkWRtVUVEJEcKeiIiEjpLV6XYNwNG2/Dxs4IpyWH9zBk27sOPbOGffwVTREQkWSnoiYhI6MxftsYmzVlsy1anBFOSQ3baBpvb7ydbOXFiMEVERJKVgp6IiIQOY+ht2JhhWdnJ15QxbelSy0hZG/wmIiLJSkFPREQkTCLZulVPREQU9EREJHySOeew7REGEEy2QQRFRGQLCnoiIhIqK9ak2vylq23dho3BlCQTzXerZ8601bPnKOyJiCQxBT0REQmVoX/PsB6/jrE5i1cGU5JMdpb93bWrjfv4Y8tKTw8miohIslHQExGRUFmwdI2lrk+37CTsiMXLXLPaUmfPstRFi4IpIiKSbBT0REREQoj79Ny9eiIikpQU9EREREIokpVlkczM4DcREUk2CnoiIhIK6RmZ1m3QGBs9bb6lpiVpRywx5g0ZauM//dTSVq0KpoiISDJR0BMRkVDIyMyywaOn2axFy21jumqyUubNtQVDh9qKSZOCKSIikkwU9EREJBToe2XF2lTbsDEz+rPuTbPsbEtfu1YdsoiIJCkFPRERKfM2ZmTajAXLLSMzO/qbQp63cc0aWzVjpqWnpARTREQkWSjoiYhImUbPkstXp1q3gaNt3fo01ebFSJk/36b36WOLx4wJpoiISLJQ0BMRkTItKztiS1elWP/fJ1vKho0aUiBG1oYNtmrSRJvU89tgioiIJAsFPRERKdOyuBctMyv4TeJlZ2TY+uXLLTtL+0hEJJko6ImISJm1Pi3dBo+ebk9//FMwReJlrFljC/r2tV//87ju1RMRSSIKeiIiUmat27DR5i1bbUtWKcDkJEKN5+pVNq1nT8tMSwumiohI2CnoiYhImbRy7Xr7fdJcGz5+lmUztoLkKDsz09bNnGEjX3nV1i1aHEwVEZEwU9ATEZEyh/5WFixbbX9MnmvT5y0LpkqOojsse8N6m/zpp7ZszBjLSE0NnhARkbAq/2hU8LMUweLFi23EiBH2yy+/2KhRo2zRokVWpUoVq1WrVjBH/i1fvtz+/PNP+/nnn+23336zOXPmWOXKld2ydtghcTbPzMy0WbNmufcfOHCgjRs3ztavX2/VqlWzqlWrBnMVP96rZs2atueee1rt2rWDqSIiJWva/KU28M+pNmrSHFu+5p/QUr78DlvU7lVZv9bqLp1rtVapFgsZa1Zb1saNVqtpU6tWv77tUKFC8IyIiISNgl4xmDJlin377bfuMWzYMBs7dqxNnDjRli1bZjvttJPVrVs3x4AWj7D2448/Wo8ePezXX3+1v//+2z0WLFjggl6dOnWsYsWKwdybpKamumD46aefWu/evW306NE2ZswYmz59uqWnp7vXlFQIU9ATkW1t7pJV1nfEJBv41zRbsHy1q93zFPTytmLSJPdvtQYNrEr071P5SpXc7yIiEi4KekW0YcMGe+mll6x79+4u8LRr184OPfRQVytHYFu4cKEde+yxrnavXLlywasS27hxo33wwQf22WefWVZWlp166ql23HHHuffo2bOnzZs3zy2b8OiDI/MRNJ955hnr37+/HX300XbWWWdZg+gfcAIitYsVKlSwQw45xP1b3BT0RGRbYSD0BcvW2HdD/rbh42fbkpUpWw2roKCXP8vGT7D01HVWuU4d2zH6HV4hH3+jRESkbFHQK4Ls7GybMGGCPf7443bEEUfYfffdZx06dLDDDjvMWrVqZatXr7auXbu6wNawYcOtauLiTZ061V5++WXbeeed7d5777VLL73UBTSCIoHuww8/dMtt2rSpa8oJ3oMmnu+++67dfffddv/999vhhx/uAuKuu+7qavZYLgGQmsXipqAnIiWJ2jrGyUtNS7dlq1Ls/R9G2C9/TnEDpGdEvxdja/OgoJdP2Vm2Ivr3a9mEiew0q96ggVm5HWyH6M/luJCo0CciUuapM5Yi4L64b775xoWtM8880w444IDgGbPGjRvb5Zdf7sIg86xcuTJ4Jmd9+vSx+fPnu5B25JFHBlPNBambbrrJ3W9HLSE1e97s2bOtX79+bp4bb7zRzeMdf/zxLiRyj99PP2mMKREpGwhvkeh/qMHbmJFpcxavtK9++cuu++8X9tOoibZm3YZgTimS6P5dPvovG3zvvfbVv86031991VZNm+aGYKCXzghBOvo3zD2i8/oHr8v14ZX16SIiZVy56Je2vtUKic5OCFIZGRn2xhtvuGAVixB2xhlnuEDI/Xv77bdf8Exi7du3txkzZtiDDz5oF1100RbNaHiPk08+2ZYsWWKvv/66tW3b1k3v1auX3Xnnna5GjaAY+xoOLbWA//3vf+2ggw6yr776Knim+Dz00EPWqFEj12S1WbNmwVQRkYLhL1FWJNtS1qe5JplzFq20mQuX26xFK2zektW2eOVaS9uY4cIf33Ku5i76c/ywCpUqlreMzH9q+uosm2d7jR9iTWaM3jRBthb9u1GufHnXfLNi5cpWvnoNqxL9Xq/VrKnt1KSp1Wy0q1WpV88q1ahhFaLPV6xa1SpEH+VpWRJ9LUEweiBcTSD3+5WrWNH9/YlE/25lR8PiDtF5dohO4z2QHUznIDFv+QoVjMPlwmX0ATqJKcftBiyf+WOm+w5k/Py8l1t+MN0FVD89WA7rxnKyWA7TqbkMpm9eDtsQneaWT61m9PeK0X1SuQRaw4iIbAsKekWQkpJie+21l2uqSfPNli1bBs9sQk+cN998s6tNGzx4sGuGmRNq/o466ihXI/fvf/97c5DzaLpJrR6B8Z133rGzzz7bTSe8EfQuvPBCd69gPILgs88+Gy0UlbdBgwZtEQRzQ+cvc+fOtbQ8BtelAxhqMllfmqeKSMGkpWe4YQImzloS/UaOBpgdykUf0UJp9Ks5M2tTDQofWz67FaLhhi/szJggs0N0fqYjMyt7U/Bx85tVjH7umS8z+v0SCQJRueisTMfmpo/RB+Va3jda5Hfzsxyeii7eLZ/3z4ouP8u/cRTTy0cXyHIIXbyA92Ub3PzRZbBOLplFn3fLj07PjM5PGOM55nFvFJ1nw8Z0W5+W7mrxNqZHH9F/06OPtOjPvCYW9ymzb+L/hLFO7LdNCzWrtnCO1f9joNWd8Lv7XfIhum93iAa2CjtWjj4qRcPbjtEgFQ1AnDccQ57nZw42j5hj4P7GRJ930/zxiU5z03nAT48qqenuudjpPPgc+Pn5D+uJ2OW4/0Snu2VFrG7073qLTp2s7sEH84xIiatevbpV4oKJP59FikBBr5DYbatWrXI1aXR+wr1x++67b/DsJvS6yS2QdLBCyGrdurUrnCRCRyw016RWjHvtjjnmmOCZTQh6LOt///ufq9E799xz3Tp8/vnn9sADD7gQyL/xBgwYYM8//7xbV3rx5MsjP4YMGeKGdlizZk0wJbGZM2e6pqbcF1ijRo1gqojk14aNGTZnyUqbNHvTPWQVot8RXJghOPG5dwEqipDkg96mGqvoT9H/U7PFg59dcIpku8LqDtHCaoUK/0zPjk6Hn04ZIiMjdjqBkcI73zcEsGihmOnRCRUrlHfz+2DG/5jOclgv1mdTMIxOj87oAx3L4DVuOdHXs3yWw/IzWCdCnntNNDhEZ2A5blnRbYvO5pbDdN6Ti2HMzevLR//Dd6nbR7xvMD/zun3Heka3i11UYekiqzykv1Ua+kt0DpGCqR0NeHtcc401jLv4KlJS6F+BsJff3tpFcqOgV0gUOlasWGF77723nXfeeS6c8XMset586qmn7O2333bj2xGGKIQkQs+adJhCDSE1dLH36IECH8t68803XYctvKcPejSfvPXWW906xCPcvfDCCy500nGK78QlLzQ75V7AvGr0aFK62267uQ5kSqJXT5GwI9ikrN9oq1LWu99dM7foH3g+34Qw/w29aTpxJvp94Gom3I9uGs/xqwtDwXSC1qb5NzVvjJ1OjdumQLcpJG2azntsCoDM7wPm5vmjmLYpnAXzR6dH3yV4X2Je3HLi589xOjU+BLdgOdGnopOtnN+2YP5/lr+phojlbD0/+44AG0zfsN7Sxv5lawf+bBtXr3bL+GebNy2HX3nNpjdwz7hl8cSm5RMkmde9aNOD6dHt5udNLwkKZSyHf1gogdf9tmnR0ZVyPzOR9+W1rqbVvYbfg+lg8qZXOZunR/n1h18Oy940nRrg6Lq46fwaTOcRncb8PDZN2rSu8NPZb5ue/Ge634hNy2HiP/Mzif/4dXL7jdcE03hpsKhNy2JKovmj3P6MsWn+4PXB/MzL/zYteNNy3PsE5xY2zx/9f6L1d7/66dF/N03f9Fz0BPKzu2aodQ480HY780yrGf3bLLItcNFcNXpSXBT0CondRicse+yxh+uIheaWiWr0Hnnkkc01ejTxzOkKDePd0XMnPWrec889CWv0Hn74YXvvvffstddec0EPBD3em45Y/u///s9Ni0WN3nPPPefWtSA1eiKy7fAl7JtWwhWgmRr77RyUS7HFt/bm6UGBNVZsOSHmKV9+2Orb3y1r6+Vsnn/zfwJ++TkthydinsttOYnel+mbxc2/WfxL/L5D8E/aiuW2ZuZM27hmzab3iD4i0fkIjJsWFv3dBUleEF0TNzl4E+aNPjZNiv43+nCLjZnONF8o88t3gvl5xk2KBiv3DpvnZ5s3hVv45TtuOe6HYBrP8XtU9Dn33nHLca9BsJx/ZmdZPLdpGe5+NT+Nx+b5g30XnbZpnVg+T21aEtO2mM7fMz+NyXBPuP8H04MnWH7Mctzr3GSm83cxfjmb/sNLNr3nP7bcZvfKYDmxy3c/BsvhX7egTQ8m8v/Y5YDnmMayor9y31/1XXe12s2bu59FRMoaBb0iWLdunbVo0cLde/fEE09sdQ/eokWLXJNKavMIWdzD5/8QxeOKOOGOGjeCG0MyxCLoXX/99W5AdGoI/T16X3/9td11112uKeerr77qpsX6/vvv3Rh7BDxCn5oCiIiIiIiEn0r9RUAzzN133901caRjlvjMzH13kydPdkMtEOByCnkggNEEkuagPOKXRdBjPLw6deq4ttv+6iVV/AygPm3atK1ew+80H+X+PHrGVMgTEREREUkOKvkXAUGPYQVookntHc0vPe5dW7p0qU2fPt31SFmrVq3gmZwxPAPhkLH0Yu+NI+QxDh9Bj/v8Ynu3JMBRkzhp0iQX6KgZ9Bj+gWWBYSBERERERCQ5KOgVAZ2PcK8cIY7hEwh11KLxYGgFmk0yzwUXXOBq4mIRyAiDhDiP0Ehw+/PPP23s2LGbl0VtIffiEf4Yl4+aP497+k455RTXjJRmnIQ7/7o//vjD/vrrL1fryLJFRERERCQ5lH+UPvulUGg6SbNJau64d27KlCmu90z+pQOWbt26ufHtLr74Yjc+nm+6SXD75JNP7Morr3TDE5x22mlues2aNd1wBtxL9/vvv7tgR40c83L/HZ2+XHLJJdagQYPNy+Leux133NHmzJlj7777rnt/Xsd9gW+99ZZrBso6tGnTRk03RURERESShDpjKQYMLt63b18XrrhXjlo6atpOPPFEO+ecc1wNXGzIIswRBBlknU5VunbtGjxjtmTJEtdDJ4OsT5w40YU2gh1j1dHhCr18xvecyTzUJnbv3t2GDh3qgmfVqlXtwAMPdCGSJqEMfyAiIiIiIslBQa+YcJ8eY88RsmiWWbduXddkMvZ+Oo8mm8zLfXUMjMlA6rG4144auoULF7p5a9eubc2bN3fz5jQOX2Zmppt/xowZLkhSy0cz0CZNmrjXi4iIiIhI8lDQExERERERCRkFPSmVUlNTXYc2dGYjkhO+vujtlvMkp9puEVpZ0KSee5v1nSK54VaIihUrutst/L3wIvH4TqHlFC2tREozBT0pdTgladb61Vdf6UtUckWhjA6H6PmW8SVFEqGTKnom5mJAfA/IIrHoAI3xaelATRcFJCd0qsd3yVVXXaULAlKqKehJqcOVMnoxve2221yPpSI5YfzKcePG2d577+06QBJJhE6u6OGYTqoOPvjgYKrI1ugIjfvbuceesCeSyIQJE9y/9K6uCwJSminoSalD0Pvxxx/txRdfdD2ZiuRk1KhR9vHHH7seaU866aRgqsiWxowZ43pGrl+/vl199dXBVJGtdenSxY444gg79dRTXY/XIol8+umnbqzkzz77zDX1FSmtNLCaiIiIiIhIyCjoiYiIiIiIhIyCnoiIiIiISMgo6ImIiIiIiISMgp6IiIiIiEjIKOiJiIiIiIiEjIKeiIiIiIhIyCjoSalUuXJlq1evXvCbSGI77rij1a5d2/0rkhPGuapRo4YbMF0kN7Vq1XIDpZcvXz6YIrK1KlWqWJ06daxcuXLBFJHSqfyjUcHPIqUKf3APOOCA4DeRrVWoUMGFvGbNmrnAJ5ITQl6jRo1sl112CaaIbC0jI8NatGjhBtfXQNiSm7p169o+++yjsCelWrlIVPCzSKnCqakvUMmLzhMRKS76PpH80rkiZYGCnoiIiIiISMjoHj0REREREZGQUdATEREREREJGQU9ERERERGRkFHQExERERERCRkFPRERERERkZBR0BMREREREQkZBT0RKVU04ouIiIhI0SnoiUipkZWVZevXrw9+ExEREZHC0oDpUqrMmDHDevfu7R5Lly61ffbZx6688ko77rjjrGrVqsFcEkYrV660fv36WdeuXe2HH36wSpUqBc9sad26dTZ48GD76KOPbMqUKbbLLrtY+/bt7YwzzrDdd989mGtrkyZNsu+++8769+9va9eutYMPPtguv/xyO/bYY618+fLBXFLa8Cdq+fLl7pz4/vvvbfr06e674PDDD7fzzjvPjjzySKtcuXIw95Y45t9++639/PPP+T7mqampNmTIEHd+TZ482XbeeWc766yz7F//+pc1b948mEtKI45d37593XkyYcIEy87Otn333dcdv3POOcd23HFHK1euXDD3P/hO4Zh//PHH7pypX7+++07hmOf2ncL5wXcK31ucXwcddNDm86tChQrBXFIWzJ49255++mlr2rSpde7c2erUqRM8s6X4vyMc806dOtkxxxyT8Jjzd23gwIH26aef2rRp06xJkyZ2/vnn22mnnWaNGjUK5hIpOeUfjQp+FtmuBgwYYK+++qr7UqxXr561aNHC5s6daz179rS0tDT3B7dmzZrB3BImFObHjRtnL7/8si1cuNBuuOGGhAXxOXPm2DvvvOPOE54/5JBDbMOGDa6QNnXqVNtpp53cH+p4vXr1csv+/fffrWHDhu6PLYGBAiG1iJxrOYUF2X4oqI8ePdoefPBB6969u1WvXt1at25ttWvXtr/++st++uknV0insEUhPhbH/KWXXrI//vhji2PO9MzMzITHnO+b//3vf+5cIRC0bNnSffcMHTrUXVTgfZs1axbMLaUJ58HDDz9sH3zwgaWnp7tzYrfddrN58+a5Yz527Fg74ogj3DkUG/Y45nynvPLKK1scc75TOOY5fadwMZLzZNSoUdagQQN3XnB+EQL4Ttlrr72sSpUqwdxSmnG8n3jiCevRo4e7mENoq1atWvDsP7jYFP93hIvT/B3x3ymxx5wLAW+99Za9//777ruG767Vq1fbL7/84s47LijsuuuuwdwiJUNBT0qFFStWuAIWV8tOOeUUu+KKK1wt3v777++utPFHlz/cXAGrWLFi8Cop6xYvXuyuvP/444/uavpvv/1mNWrUSBj0aNLJecB5wlX6W265xU466ST3x5OCHYFg48aN1qpVqy3+2C5btsxeeOEFV0N85pln2iWXXOL+kPMHnT/SXGDgCjw1N6rZK10opHOhp0+fPnb22WfbVVddZW3atHHHnELVzJkzXZCj8E4B3eNYv/jii+5fanM45kcffbTtsccerjDOMef7JfaYc34NGzbM3nzzTdeSgPPr5JNPdu9FIY7zi4sKhx12mArwpRDnCbWwHK+rr77aTj31VBfsOE9SUlJcMOM5/ob4iwIcc0I8hXG+U26++ebNxzwjI2PzMef3+O8ULiLw/UWtn/9O2XPPPTefX/zO+aWavdKNi4wEsc8++8x933DO8N0QH/Q45nynLFmyZIu/I7HfKbF/RzjnuBD11Vdfue8mzq0TTzzR/X3iOb63aLVy4IEH6iKjlCjdoyelAl96PPijfOmll9pRRx1lBxxwgAt9Xbp0cU23aK63aNGi4BUSBlzZJLjRrIVCNlflc8IfYYIezWVuvPFGF/K4EEABnuZSXF3lSuuYMWOCV2zCcimwUVi74IILXJM/Lhqcfvrpds0117iwN2jQIHexQUoXmjpxbKjJv/76611BiQI5BSeCH8eQkE8hi4K55485oaxjx47umNNss127di4EUDCj5QDNqrz58+e77xiuuN90002uwO/Pr8suu8y1KOA7ippEKX2ojdlhhx3cMaZZHAVojh/HkeNH4Zpjt2bNmuAVm4557HdK/DGnlo7vFM6lWFyQYlmHHnqo+04hHPCdwvted911NmvWLH2nlAFcwKFGljBG7Rq3AeTEf6cQ1GL/jnC+XXvtte6iE98plFXA3xVeQ5Dku+uEE05w312EQW5HoaZ45MiRNnHiRDe/SElR0JNSgT+Kq1atsv32289dIfOovePqGs0b+ONK7Z6EBzUxNIuiAM8fTP7Y5oTCOYUummNxXxaFOm/vvfd2f0S52soV+ljcs+ObchEGPa7Y8keX9+QeLl4rpQtBjODFsaMpXGyTO2pYmEbhjKvt1OZ6OR1zzjd/1T3+mFNQo9DH+cWFptjaXS5A8d1EDSHBQEofPsfcp8v3QOz9vdTeUXvPucPfmNgLAv6YN27ceKtj7r9TOLfijznnF839OL9im3XyncLfK9aFi1jU+EnpRPNaLhy/9tprrhkmF41ivyviUTvHd0x+/44Q4MaPH+8uEBEOY3ERgu8uyjP8TRMpSQp6st1xxYsvRJov8IUb29SFP878oeZLkaukFLQkPKiV4b6a//znP+6qKAWunFBoWrBggSt0x3fUwgUBzh3OF/7Ack6Bf7kKy4318U0zmZdOPWimR/NRCoFSunCBh8I7HWPE49jS9I7CF98RPvgzndqW3I45BXiOOSHSo4BGrXFO5xf3YbEsXufPLykdOB58f9C0N7bDHO7xpLaO+/PAc7GdevGdQq0eoS6n7xTOq/jvFFoNUCOT6PziAgTfKdyGEFtjLKUHx5Bjw/2U/H3gvKH2P9F9eWD+/Pwd4Tzh7wjz813Ce3DOxd9uwu9cUOK7i1YLIiVJQU+2O66s0aymbt267pEIV8VoZsH9EvzxluTCMefYI6fOMOjAh84yKNj5c4Rzi6ZaFNJr1arlpsWiEMdFBB8YfGFOSgfugeE28g4dOgRTNuE4EcyGDx/u/qWQ5e+hyuuYU0iLP+b+/OLnnHpZTHR+SelAYZumuRxXCus0AafpHE3jqH3z911yf6fvTTH2mOf0ncLfo8J8p3Cvnr5TSi96Z6Um94033nAXCHILefDHnNYD+fk7wvy8hw90ibAsAiJlH+YXKSkKerLd0ZSGP6J86cX3nOdxjw41fXwhqpCVfDjuPPjDSWctiVDQ58H5wUUBClg03+NfmuzFX7EHBUQKchT+eY3+4JZ+FKSo2X/33XddJz40i+KeF45lQY45hTOOOecLx52fczu/aHHAdxTzxzb/k9KHmhV6UaQ5OPdHUbtGb4kEMN9ixB9zfs/tOyX2mHNe+X8JBon+Xuk7pXTjePz999/29ttvu5pcOv7ieOWkIN8p/pgzP+/DvDkFSM4rvlP83yuRkqKgJ6UKX5i54cuWhySvvM4RFOYc0XlV+lEo4t4nxs979tlnXQc79957ryuwxcvveRJ/3PPzOindqKGjOd7zzz/v/uXiAIGPZrfxIZ3jXZhjXlLfQ1KyuC+TJps02aW3Vd8SID8KeswLe26JFCcFPdnuuOrF1XWaPXCDeyI0neGqF1fMeEhy8cedQhrnQiI0w+LBH1au0vMv5xb/0pSLq6zx+KPMfVpcfeU1nIdS+vC98Oeff7oOE7gCTw0/Y589/vjjrkmeL0wV5JgTGv0x59zi59zOL9aB7yiWzbxSetHkkl4RL7roInvooYfcOGc0kfv3v//tavdQmGPOv9T65nV+0cxP3ymlD+cATXlp0su94XSgwrHMDc8X9O8I8/MvFxh4TSK+vOO/f0RKir6BZLvji46CGzcx59QhBr1T8WXI1Tf94Uw+HHN/7LnJPRG6MuePLc2w/B9O/qVJDU39EhXmKOxzLw9NaGI79JDSg3vwGOOqc+fO7r6XRx55xDXLo5MWOmuhUBXLH3Nel+iYUxiLP+b+/OK1DGScSKLzS0oHwho9KFKo5jPN8eH4cqy4t5KLAccff7zr9IvjSME89julIMfcn1/0xkmgi6fvlNKL4zlnzhzXmc6TTz7phsNgCCcejJtJJ07du3d3LQZuvfVWV/sHf8zz+3eE+WmayXfNwoULg7m2xLL4PqM5qD+3REqCvoFku+NKGd0Nc3WLP9Z8acaiJm/KlCmuOU5u49xIuFGoZ7DjyZMnb3VPA39Q/blDN/j+Ki3/MtYVf+AZ3yj23KKwxxVXmnMxdha96EnpQiGbsakYCJvODqidoWMWOt7geCUqRHPMuW8vP8ecwptH5xp0nJDT+UUPjUxnfE9/fsn2x/ElcFFDQ82dH8fM41hRu8K9UvyN4Vh69KrJMefvS07fKUznXIn/TqFHxUTnFzU+nF/07Oo7fpHSgSBGWYNB7gn/fOb9g2DG9wk1tnwvUCvMz/DHPK/vFP728L3E/AzBwPFnWKDYcw78zgVLQiHfa/7cEikJCnpSKjCYKF+Q/MGNHSuPK7UjRoxwhSx64MupdzQJP8ZXpHc0hljgymvsH1v+mNJNNX+wGccqFh0y8AeVDhp4rUfTGZrw8Ie7bdu27rVSulB46tmzpytsc4Wd40QBLK8r4Bxzavo45rFX1P0xpzbm1FNP3eLCEd2g09zPn1+xhTOu1k+dOtU19aJmSEoPCskca/5OfPHFF+44xX43cBwJZdTi0KMqrUd8wdofc+7XyumYc47EH3POHUJD/HcKTcdZD84vaokIklJ6EOAYs/W2225z3yexD5r5MiYigY7m4R07dtyiF3Bq//L6O8J54f+OcHGAi0LUFtP5SyyaD1NbyPnI3zSRklT+UfquFtnO6LKYwjpX0/nipDkDzRoY/4h7cbhKyk31fHH6q2wSLlzh7N+/vzvW/KGNL8xTsOI5BphlXv4IUzCjQEZzm3HjxrmB1M8999wtbrDnAgLPEQQJDFy5pQaA7rU//PBDdxWXZjv80eXKv5QOHFsGIKbZJjW5Rx99tCs00fQq/sG9N7H323AlnWPOdwrHnPOB2kF/zDm34o858zAv5xfLpMkf60CBrEePHu67iFBw/vnnb3F+yfblgx7nBgVu/n7wmSZ00XyXQjadb/Tr18+uueYaF9oIe+A7hYuJiY453ym89ogjjnBN+eK/U2gGyncKr+c5mvSxnK5du7r379Kli7s4pe+U0oNjQdjj+yT+wXFnuBZq2Ah9XFSOLWvEHvPYvyMc8w8++MAd85tvvtldPOB9eJ5zggsI1AxzbvE6Lh58/vnn7u/WySef7C5KcR6KlBQFPSkV+FL0f6wpUPFHl9D366+/ui/WCy+80F0hVVOY8Mor6HF+cJ7w/NChQ938/LHkZ84ZBrqmQBbfAyNNtviDzXnE1VhqjAkBQ4YMcVdmuYDAVV4uLkjpQTM7Pv8//PCDK0zzfcCxTvSgwEVNLoUtcMwpbFGo8secQlpux5xzhPOLwhjzcX5R4Gf51AbRNT/nF02+pHQh7BGqqL2l0x5qgvm88zPHkoDPhQJqbijU+/PEf6dwfjEfNXv+O4VjTqE/0TH33ylcSOC9+Hvlzy+WwXAfjNmn75Syg+M2YMAAV4PLd0n8sAixxzz2O2Xw4MHuO4VjHvudQu0fFwC4b5RaXs4Rvk/4TuPvD83Lzz77bBcMRUqSgp6UGlxB839Q+SNLwW7nnXe2m266aatmFBI+dMTDH1FqdylcJWqex9XYli1busIaf2RHjx7t7pHgnotOnTq55xKhwEYQ5F4Kzi3+SNNMh6vuvBeFPSldqJmh0M3FHwpM1PDn9KA2j2ZTsecMx5vQT2DM7zHn3OMc4r4tCvD+/KLjlyuuuMIOOeSQYE4pbahxofaNmhNq8vj7QRNKvis4dnfccYf7e+JDnscx557Pxo0bb/GdwjHnOyWnY853CueX/06hEM99Wf78ig8KUrrx94djSDmEEJao1j7+7wjz++8UWpLEH3PORe4J5F8uRnLhgbBIq4DLLrtMF41kmygX/ULTQC8iIiIiIiIhos5YREREREREQkZBT0REREREJGQU9EREREREREJGQU9ERERERCRkFPRERERERERCRkFPREREREQkZBT0REREREREQkZBT0REREREJGQU9EREREREREJGQU9ERERERCRkFPRERERERERCRkFPREREREQkZBT0REREREREQkZBT0REREREJGQU9EREREREREJGQU9ERERERCRkFPRERERERERCRkFPREREREQkZBT0REREREREQkZBT0REREREJGQU9EREREREREJGQU9ERERERCRkFPRERERERERCRkFPREREREQkZBT0REREREREQkZBT0REREREJGQU9EREREREREJGQU9ERERERCRkFPRERERERERCRkFPREREREQkZBT0REREREREQkZBT0REREREJGTKRaKCn0VEkkpWVpZNnDjRxo8fb2lpadawYUM74IADrHHjxsEc/xg1apTNnDnTNmzY4OZp2bKlVaxYMXi29GD9fv31V1u6dKmVK1fOTjzxRNttt92CZ8OFYzZ79mx3DFNSUqxKlSrWvn1723HHHd2254Y/fcuWLbM5c+bYokWLbO3atW5atWrVbJdddrHdd9/d6tevbxUqVAheISIiUrYo6IlI0iIovPbaa/biiy/a8uXL7aCDDrI77rjDLrzwwq1C3N13321ffvmlLVmyxM3z4IMPWs2aNYNnS4/Fixfb5Zdfbr/99puVL1/ePvvsMzvrrLOCZ8Nl9OjR9sknn1jPnj1dWCOY/fXXX1anTh3bYYecG6xkZ2fb2LFj3T4aPHiwjRkzxr2e6TvvvLPtt99+dvzxx9vRRx/tzgmOc17BUUREpLRR000RSWrU6vHIzMx0IWHQoEE2d+7c4Nl/8Lx/EAhKs9h1Deu1PI7Z999/b2+//bYtWLDAatSoYbvuumuuAQ8cO0Ld//3f/9n9999v3377ra1YscJq167tAmJqaqr169fPPXf77bfb8OHDXS2piIhIWaOgJyIS4+eff7Zu3bqV+jCX7KiNXbNmjQthDRo0sM6dO9uAAQNsp512yjXs8bpXX33VRowY4ULdHnvsYdddd50LjO+8847deeedrtkmtaEE/65du9qECROCV4uIiJQdCnoiIjHmzZvnanEmT54cTJHSiCDuayupzWvRooW7Ry+vJpYbN250zT0JidyT+cADD9jDDz9sbdu2tVNOOcVuu+02+/HHH13tIGHvhx9+sEmTJgWvFhERKTsU9EREAnTiQecbI0eOtPfffz/fzR4JD7fccou7p+vYY4+1Xr16Bc9sQocfhx9+uB1yyCF29dVXu85f8NNPP7n7AVu1amUdO3Z09//deuutduSRR9pxxx1n99xzjwud6enpNmPGDHvsscfshBNOcM9R80SNE8/lhud5n+uvv969lvf7+OOPXU1You2jSSRNV7l3kY5NWG/+feGFF1zg4XmPDkwISWw328b7TJs2zZ5//nm777773DrnB+tIDdu///1vO+200+yoo46yDh06uOX8/fffW61nnz59XEDjX8yfP99ef/11u/HGG10nNLHrGIvlZGRkuI5bCIrc01evXj0XELknkwc/N2rUyP7zn/+40HfNNddY8+bNN9fwcuwuvfRSO/TQQ11HN7NmzXLTPY79YYcd5vYJ93WuX78+eGYT1oH9+95777ljwf496aSTXFNROvyJn9/j/bmfkP166qmnuvPskksuccuhU5l4bOeff/5pjz76qLVr186dU/7Ys48S1Viz37jH85VXXrHzzz/fbQPr1qVLF3cfJMc7EfYntamck8zPNnFf6NNPP+0umMSfo7z3ypUr3Wfsoosucu9z+umn2+OPP25//PFHjsePcN67d2+7+eabrU2bNm6bzjvvPHdu0ikP2ywiIjGif3RERJJSNOxEooXRyM4770ySiJxxxhmR448/PlKpUqXIMcccE4mGrGDOSCRa6I/ssssubr677rorEi10Bs9EItHCuXtt9erVIzVr1ox8+OGHwTObTJkyJRINkZEddtghEi2gR6JB0k3/4osvIgcffHCkfPnykZ122ily5plnuveIhk23Dg0bNoxEQ1YkWoCOnHPOOZHddtvNTY8GkkiDBg0i0QJ/5Mcff4xEC8ZueVi0aFEkGkDcfDyihXy3TdFA435n/fbff/9INKxEFixYsMVr09LSIv369YtEC92RPfbYI1KtWjW3bvy7++67u2V99NFHbj5EC+uRK664wm13uXLlIg899FDk9ttvd/NGA1tk3Lhxbr7csA687ogjjojsuuuukWjQcttfo0aNzcuJBo9IZmZm8IpI5NVXX420bNnS7VOOB/uV1zH/zJkzI9ECfzDn1lasWOH2Ba+pVauWO5bRwBxJTU0N5ohEokEkEg1PkWhQjUSDa2T16tVuGjh20WDuXl+nTp3IxIkT3XSPY8/xYf2jYTUSDUHBMxG3r/v27RuJhptIixYt3Puzf9kOtp198O6777r39nhfztMHH3zQnZN+H/EetWvXjuy9996RaICLTJ06dfM+WrduXeSNN95wx51zxu9Tjv0+++wTiYa4yLBhwyLRAObmB+/x+++/R6JBzR175uU1rBufj4MOOigSDdKRaKgOXrHJkiVLIs8884zbJ5yTzO/PmaZNm7p16Nat2+bPC+/J/j777LPdurMPeJ+qVatGmjRpEokGuMiLL77oPlOxFi5cGImGe3fcowHdvU/secLrOHfZdhER2aT8o1zuExFJQnRWQk0StWbUpEQLn66mZtWqVRYtOLtaL2pDaMIXLaC72hzu66IGgtqxaGFz83LokZNaBVA7wfALHp19RAverqaCoRuoteJflkctDbUo1HJQIxENjO61vCZauHUPasmiBVhXixENA25+av9oZkqTRYZ7oCYKzNe9e3f3HOtF7Q33sFH7FA14rvaF4QgYKoL72Xg9QwqAmsw333zT+vfv77aNmhxq83gd89NTJTUxdFoSDQzufjf2C8uj1iYaiNx+Y3o0wLqeK6kxywk1UTSTpAaJ2kJq2M4991y3z+kchZovls18DBHB/XQ0zWRbmzVr5t6PGjWaYPK6aOh0x491z6kJZ/Tvntt30fDtaoj4me0aMmSIOw9YHsvlPThG9MJZuXLlzcuj4xdq7TgGvA81fszj0YMnncRwzlATyHpFA7Z7jtpJatSoHaMWmNovarQ43qwPDzqK4Xixz3lPzkv20UsvveTuFdxrr73cMaGZKetFz6PUnNJrLMtjGveYUtPHdrHPWEfOK36OBrzNxygarFwTVXC+0PusXzdq/6gto3aV84jaY44H68S55PFeH3zwgUVDvbu3kffi/Gf9eQ3bRE0gz/Hgd2qL/ftQw837cNw4zryGfVC9evUtPkMfffSRa3LLZ4Hz/corr3TNbdnHnLdMZ19xPlMjKyIiZgp6IpK04oMehWcKj0yn4E/h+f/bu59XG782juNnbKKYmCnJIQx4DokoP2YopZTi1ClFBibqlCQT5MfETFEyQVKKkYkYGPEvmBk8E4wNdPZzvy7W6ba/2/n68Xi+PdvnXbtzzr7ve/241tqn67Ova621fv36cojtxLiQ0Hvw4EGlaHKEm1hrEG0EFDFHsPSFnnqIMaLLsQ0cf2KOyJSS6BoBdOjQoYmZmZmqm4gggAgS7SOqPI9hoSeNznELUkOnpqYmFi9eXM42p5qI1GfnxnH8CZg7d+5MLFq0aGJ6errSUbdt21ZOO6eckH3z5k31e/fu3SVcCT0ijUglUIhRaZfss3LlynkBOgr9v379egkSjr3UP2mRBOLk5GTVqWw2IMoOHDhQqbXaS7SwgfEzPvrotZDIg41ajIGxIHrZSR3aQKywDUFFlPmbcCI6m1gj9KzbI/RcGyX02FE7tbEJPQLTHPEifIyxNEyi1vixHzFNtJkb0hKVb5zsEKotBLYUXP2UusnehLf2EqjSLdUrjdVZikQhIUUAK484J2yNofvZ2PzxDKHEHTC/ib/Z2dkSlNKKiXV9YAdzQ5sbN27cmHj+/HnZ3dhLVzVnlMvG7RnijN0JTaJVf421NEwC1TEWxsZnSFvMf/U3u1++fLnSOpW1d+/emptE6Jo1a2oeLl26tOylveZDCCGErNELIYSv4GQTGhxGAsNOjAQVp/V3QoBx4jnEnGRCiWMMDrv1WJxhEQtCqgk7Ymh4DVQfzrJIJYeYoCA8rPECoUToEHkEBeefcOBcK98aL048kWH9msgfwUXwsc0wyrWuzVo5gpkw+RZEqAgRx1/ZBKk+OsOOgOHEazdbEK8vX74sgfStcVhI3PUhktnRWkgiQ2SIQCJ42Vn/iHoRsUuXLlW0kQgkTH4FNm6CjFAVFSPWiCjRSWKMKBNJYwPixcuXBKK+xticJIoINFFMz7P1kSNHak7oG5t6sRnxTGBa+0f4ieSpj70JPqJKfxvuhbHx5YejRow1gWhXU+LK/Gn3we9exsUXB6LBxDeh5ssF8+HYsWM1/9Sl/+aOthKURLa2iUyq1+eA2HSfyF4rv1+PNtkd1/wE2zkKg/1EDUMIIXwmQi+EEHoQDKJxImscSxt+OFib4/o7Ec3gmDfBIjoh0gJRDFG9hmvtvuYAj0KZHN9++qTIBxHWEKEiCggKLxABjhsQ1WmvW7duVSQIbOGeYQhJouV7IHw4/n6KBomC9vvvp7YTgPpHBKiT+PlvINpGJIkoSiUk6vST8BOtFBUiKqTkEi/NNj+L6CEBo/2ELFv1ITJF7thZNJXQJi6lETeR2aJrDfdIk/SMLyQIQCJKPRCVFD1rYyiCKKKoTPgCwwvKJayJL9FKG/+IsIqkOWuQeHRwvC8i2hiBIDdG5hqBTDzbKEeqspRKc8U4ErfGW9kQQbcZiz639olEEtXQZ3PT2KtPtNDnkv2kfRKd586dq743kciG5ncIIYTPROiFEMIQUvGkukl1FEmxq5/oB2fyn6DvWP8IoiZenPCGvznsDQ63fnGsm6BQn2daVMlLCqYIo+iONVD9MhvDdS2EMlt9nuGge74PQevoBHD4tfVXIqvKMJ7EhmgR4aFuwouIEoGSvij1VXRIdAkiYcb/exklvEVe2/whbPtjADYXaXONwPe3vnquoT3u6aP9nhGF9bv72RbK8OqPI3sSucZRxNV1LF++vPpO6Ip4WvumLCL3/PnzlWYpMme9YCsfvhARTZOOLNpsHKWg+qJAFND6O2v/pMSyfT/6bLz7bdMPQlPbfGHQn0vqJu5ENAk69hMNJNKlz4poSo8W7Rtl/xBC+BOJ0AshhBGIjpw+fbp+lzonhVFa48/A8fwVgfKzEFJ9xx/es/awwfEnEqRltk1ZpA7aLp8j3V7SPKUeWld39+7dOkLgVyBYCDlon/WIw0K6RRpBkIj49Z3/H0X5UlVFghxnYCMRgq+PekRQiYeWHisqJfI4zChB4b1R7+trE2ktmtmHDQhZkT/XlaGvzUYQiesLJff42zNeyiAGCSZIA5XyOjyOxtBL1I5ogrqkg3pPJM46RL+LpLUoovF35IfPgfmsfnNn3759NSek4dqYxQH0hBo7mn/W8T1+/LieacKdIGwbHI2aYyLpUqi1Sz36pD8PHz6sz6MIpsinLx9cY7Nr165VSufvjr6HEML/CxF6IYQwAk6q9WE2fuCgEwmjHPhGi8JwMjm3TdhxxDnGfbH1v0QkpS9mRLOkIzY45JxvqaEtPZTTLDLSR4qfNVGcc5tijBI+PwIBQ0j5qSw7KhI/fRtz+qUDsqsxsH6ypbP+DESDckTspDA65+3169d/EeH+ZjfjCBHett5QW7RBO6VIEs6tzf7+1jpCm5IQ0p5nW+vf+rCp1EmRNSLUmBFR6m6RTtE16+AaUlkJHs+I0lkbJzpJEIMwbKmSDamdNgAyjlJxW5RNaqb3nIXoOeVZ+3b//v0SVzYDgnnsXp8H4pL9PNc2riHORAD15+rVq/Mbo5g/+t52xPS8+ltUF8oj8pRHNDbBxqbSp71vXMxX6cfGz/sXLlyYHx9fDLg/hBBChF4IIYyEU2pdkXVNC+0cCQJCZERkgSP86NGjinBwgv20E+E/hTVM0uiIAFE6qW5Ehv61DV/a5ivS9aTOceStWZOySLwQJhcvXqz0OeuvRHs88yuwmV05CQg2s/mG1EERKPURYrdv3673RX+kDhLf2v2zEEwEF5FA8OknkeBwdLaxY6aNQaQaWmtGJLlPhLOtPSTW2oYf2m2NH3Fk8xLP3bx5s64NQxzaadPaPBvfeMYaNcKNuLly5UrNF8JHG/WZjYyLSBYRRUw5ZkBEy+6comTWtRE2yieECStz0XPuU4e0U+MoambDn+PHj1efrYfznH442NxxGl7W5hFqIqrElrVybAU2JNb8JBDNL8/YdIXoJCT1gWhTnyglpFpqH9sRpq47bN/6OgJfRNe6vpmZmYoa+ty0OUZws616pIn6UoAN1e9Z9vM79LsJ3RBC+OMZhBDCH0rnxH51YHrneNbBzI25ubk66PnEiRN1OLV7vIYPTP/06dOgEwh1cLPrixcvHnTiYLBly5bB5s2bB//6csC2a1u3bh10oquec2D6+vXr6/3OOa/3Gk+fPh10QqyuHTx4cPDu3bt6X5s6p7zKd61z2r86tPvfvQPTO2e8DgdfvXp1HcatHcuWLau26POTJ08GnUj48uSgDt2enZ0ddKKiDqLevn17HViuHZ0ArIPRO2E2f+D7hw8fBtPT03U4trboj/Z9L52QqEOuN27cWAeua+umTZuqvnXr1pUdO4FQh2vrc79s7XY4u3rXrl076ITBlysLY6wc2L179+5qdyfO61BxtjE2U1NTNY5sxIad4KuD3zsxVM+/f/9+0AnQqteLHTds2FDjbLxXrVpVzyrbIfedoKnn8Pbt2zr0uxNxdYj55ORkHfTtIHTzqxNdg6NHjw5evXo139ePHz/W3+aJ9hg/NtqxY0eNa3uvE3SDTszVM53orIP29c24mQ/G0WH9xpVNz549O3jz5k3dzyadyK0D+PVpyZIl1Z89e/aUnRyWbiyMz6lTp+rQc+3rBFgdlt4J9urPihUrqj+dkK6fnbCrg93Va66ppxONg2vXrtUc0z71tPs7MV1283snvKttYIMzZ85Uea6z8a5du+o5c1T/zXV/v3jxYv7g+BBC+NPJOXohhD+WziH86hw9ES4bsLR1RKJHIh4iGNb+SMHs/m/+5Rw994nAiLqILIg2WAfnunttWNFSQe1QaKMXqWYiEe0cPc/bbKIhYiO6JRojorR///4qA9LTRLzUo73Kk+IHfdJOkTnRI2fP6Y/1T6JjyhDROnnyZJ2H5lqLkom66KuyRGVEkER6RHacpSf65ggEh1uzi5RL6XQiN+53TMHwrowLIWKj36Jl6hTlcYaazTxgl0XRLHV2YqoiXA12tm7S+Ek57Rz+su/foQz3i2SKfonWSlUURWRrbTA2dt50Xp36RR5F9uCn655zr6iftETttwOmeWFNG9sbay+2gkiT1EqRYu1Qn/RU9duAxDxxVILNUNgGnlW2cRHpUxcbibCZb+oTaXXsgfLZXv3G33o995tnnjE3HMlgbZuxEl3TDq9OQM2PA9uaK8a+RfLY//Dhw/Wylk89onpsqS5tMec9I72SXfRV6rP67M5prrGbyJ4yIGps/rCBiLJNVdyvnc1ufirLM+zv86IeffJZYBvzXKqpTXX0JYQQQuefUHtffg8hhD8Kjq81PtYDEXrONuOYN6HXkNrmXDVpdnNzc3Ug9M6dO+eFXoOjayMLTigRxAEmiqTScWb9u+WMExmcUdvfS6+z1orgkZbW4MS6RoAQetZvEWnK4Nzeu3evhJ5NUTjRHHQQXIQScQZiRuqdVDz1cP6JEOKQAz0syvRV+dIItVk5nrE5DQHC2ebgQ1qfTTOIFfUSgt8jtoYxDtosjY/4US5Rw27KY69hpPM9e/asRDqxYW3Y8JEFf4fxJEqsFWNLZRIiRAXhxe7Gqy8wob2EjDRP4+O6thIZ7ieO2JVwJqaavWD8zBMimt3Ua1ytiTOWREsTlX3MO+NhzrARextzAtwcGxY3rmsbmxJt5iMByJ7G0ZgOj71+SaGU0ulZaZGQDql/njOnh/HFgvmqfezis+SzoS8Eor6xS0NfzCuflSbytN996iA4+zZr9IUksadPBCbhyPZsbfxCCCF8JkIvhBBCCCGEEMaMbMYSQgghhBBCCGNGhF4IIYQQQgghjBkReiGEEEIIIYQwZkTohRBCCCGEEMKYEaEXQgghhBBCCGNGhF4IIYQQQgghjBkReiGEEEIIIYQwZkTohRBCCCGEEMKYEaEXQgghhBBCCGNGhF4IIYQQQgghjBkReiGEEEIIIYQwZkTohRBCCCGEEMKYEaEXQgghhBBCCGNGhF4IIYQQQgghjBkReiGEEEIIIYQwZkTohRBCCCGEEMKYEaEXQgghhBBCCGNGhF4IIYQQQgghjBkReiGEEEIIIYQwZkTohRBCCCGEEMJYMTHxHzOgoE8XbGoPAAAAAElFTkSuQmCC)"
      ],
      "metadata": {
        "id": "0MXnc3QveJys"
      }
    }
  ]
}